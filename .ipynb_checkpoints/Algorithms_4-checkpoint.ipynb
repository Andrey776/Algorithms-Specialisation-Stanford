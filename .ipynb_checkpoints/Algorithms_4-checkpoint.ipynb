{
 "cells": [
  {
   "cell_type": "code",
   "execution_count": null,
   "metadata": {},
   "outputs": [
    {
     "name": "stdout",
     "output_type": "stream",
     "text": [
      "/Users/AM/Documents/_Courses/Algorithms/misc\n",
      "g1\n"
     ]
    }
   ],
   "source": [
    "# Programming assignment 4.1 Shortest path\n",
    "\n",
    "\"\"\"\n",
    "Shortest Path\n",
    "\"\"\"\n",
    "\n",
    "import numpy as np\n",
    "\n",
    "\n",
    "def readgraph(file):\n",
    "    f = open(file, 'r')\n",
    "    f.readline()\n",
    "    g = {i: {} for i in range(1, 1001)}\n",
    "    ls = f.readline()\n",
    "    while ls:\n",
    "        data = list(map(int, ls.split(' ')))\n",
    "        g[data[0]][data[1]] = data[2]\n",
    "        ls = f.readline()\n",
    "    f.close()\n",
    "    return g\n",
    "\n",
    "%cd /Users/AM/Documents/_Courses/Algorithms/Misc\n",
    "g1 = readgraph('text_4_1_1.txt')\n",
    "g2 = readgraph('text_4_1_2.txt')\n",
    "g3 = readgraph('text_4_1_3.txt')\n",
    "\n",
    "\n",
    "def askmin(g):\n",
    "    n = 1000\n",
    "    A = np.zeros([n, n, n])\n",
    "    for i in range(n):\n",
    "        for j in range(n):\n",
    "            A[i, j, 0] = 0 if i == j else g[i+1][j+1] if j+1 in g[i+1] else np.inf\n",
    "    for k in range(1, n):\n",
    "        if k % 100 == 0:\n",
    "            print(k)\n",
    "        for i in range(n):\n",
    "            for j in range(n):\n",
    "                A[i, j, k] = min(A[i, j, k-1], A[i, k, k-1]+A[k, j, k-1])\n",
    "    for i in range(n):\n",
    "        if A[i, i, n-1] < 0:\n",
    "            print('error at %i' % (i+1))\n",
    "    print('min=%i' % A[:, :, n-1].min())\n",
    "\n",
    "\n",
    "print('g1')\n",
    "askmin(g1)\n",
    "print('g2')\n",
    "askmin(g2)\n",
    "print('g3')\n",
    "askmin(g3)"
   ]
  }
 ],
 "metadata": {
  "kernelspec": {
   "display_name": "Python 3",
   "language": "python",
   "name": "python3"
  },
  "language_info": {
   "codemirror_mode": {
    "name": "ipython",
    "version": 3
   },
   "file_extension": ".py",
   "mimetype": "text/x-python",
   "name": "python",
   "nbconvert_exporter": "python",
   "pygments_lexer": "ipython3",
   "version": "3.8.5"
  },
  "varInspector": {
   "cols": {
    "lenName": 16,
    "lenType": 16,
    "lenVar": 40
   },
   "kernels_config": {
    "python": {
     "delete_cmd_postfix": "",
     "delete_cmd_prefix": "del ",
     "library": "var_list.py",
     "varRefreshCmd": "print(var_dic_list())"
    },
    "r": {
     "delete_cmd_postfix": ") ",
     "delete_cmd_prefix": "rm(",
     "library": "var_list.r",
     "varRefreshCmd": "cat(var_dic_list()) "
    }
   },
   "types_to_exclude": [
    "module",
    "function",
    "builtin_function_or_method",
    "instance",
    "_Feature"
   ],
   "window_display": false
  }
 },
 "nbformat": 4,
 "nbformat_minor": 4
}
