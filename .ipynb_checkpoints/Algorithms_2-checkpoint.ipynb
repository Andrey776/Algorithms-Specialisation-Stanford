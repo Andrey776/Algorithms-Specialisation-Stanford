{
 "cells": [
  {
   "cell_type": "code",
   "execution_count": 2,
   "metadata": {},
   "outputs": [],
   "source": [
    "import copy\n",
    "from collections import deque\n",
    "\n"
   ]
  },
  {
   "cell_type": "code",
   "execution_count": 3,
   "metadata": {
    "code_folding": [
     0
    ]
   },
   "outputs": [],
   "source": [
    "def read_a_graph(file_name):\n",
    "    %pwd\n",
    "    %cd /Users/AM/Documents/_Courses/Algorithms/Misc\n",
    "    # load a comma-delimited text file into an np matrix\n",
    "    resultList = {}\n",
    "    f = open(file_name, 'r')\n",
    "    for line in f:\n",
    "        aa = line.rstrip('\\n')  # \"1.0 \\t 2.0 \\t 3.0\"\n",
    "        sVals = aa.split('\\t')\n",
    "        sVals_s = sVals[:-1] # remove the last ''\n",
    "        intVals = list(map(np.int, sVals_s))  # [1.0, 2.0, 3.0]\n",
    "        resultList[intVals[0]] = intVals[1:]\n",
    "    \n",
    "    f.close()\n",
    "    out = resultList\n",
    "    return out#np.asarray(resultList, dtype=np.int)  "
   ]
  },
  {
   "cell_type": "code",
   "execution_count": 99,
   "metadata": {
    "code_folding": [
     11,
     36,
     58
    ]
   },
   "outputs": [],
   "source": [
    "# Programming assignment 2.1 Programming assignment. MIN CUT\n",
    "class Graph(object):\n",
    "\n",
    "    def __init__(self):\n",
    "        self.vert = [] #list of all verteces\n",
    "        self.al_d = {} # adjacency list for the graph (self)\n",
    "        self.al_r = {} # adjacency list for the reversed graph (self)\n",
    "        self.max_i = 0 # max index of the graph nodes (or verteces)\n",
    "        self.explr = [] # exploration flags for DFF; \n",
    "        self.ft_r = [] # b - finishing time reversed graph\n",
    "                        # c - finishing time reversed\n",
    "    def find_all_vert(self, file_name):\n",
    "        %pwd\n",
    "        %cd /Users/AM/Documents/_Courses/Algorithms/Misc\n",
    "        resultList = []\n",
    "        f = open(file_name, 'r')\n",
    "        max_i = self.max_i\n",
    "        for line in f:\n",
    "            line_s = line.rstrip('\\n')  # \"1.0 2.0 3.0\"    \n",
    "            sVals = line_s.split(' ')\n",
    "            sVals_s = sVals[:-1] # remove the last ''\n",
    "            intVals = list(map(np.int, sVals_s))  # [1.0, 2.0, 3.0]\n",
    "            if intVals[0] > max_i: max_i = intVals[0] # looking for a vertex with the max index\n",
    "            if intVals[1] > max_i: max_i = intVals[1]\n",
    "\n",
    "            resultList.append(intVals[0])\n",
    "            resultList.append(intVals[1])\n",
    "              \n",
    "        f.close()\n",
    "        myset = set(resultList)\n",
    "        self.vert = list(myset)\n",
    "        self.vert.sort()\n",
    "        self.max_i = max_i\n",
    "        self.explr = [False for x in range(self.max_i + 1)]\n",
    "        self.ft = [0 for x in range(self.max_i + 1)]\n",
    "\n",
    "    def create_adj_lists(self, file_name):\n",
    "        %pwd\n",
    "        %cd /Users/AM/Documents/_Courses/Algorithms/Misc\n",
    "        # load a comma-delimited text file into an np matrix\n",
    "        resultList_d = {x:[] for x in self.vert}\n",
    "        resultList_r = {x:[] for x in self.vert}\n",
    "\n",
    "        f = open(file_name, 'r')\n",
    "        for line in f:\n",
    "            line_s = line.rstrip('\\n')  # \"1.0 2.0 3.0\"    \n",
    "            sVals = line_s.split(' ')\n",
    "            sVals_s = sVals[:-1] # remove the last ''\n",
    "            intVals = list(map(np.int, sVals_s))  # [1.0, 2.0, 3.0]\n",
    "            \n",
    "            resultList_d[intVals[0]].append(intVals[1])\n",
    "            resultList_r[intVals[1]].append(intVals[0])\n",
    "\n",
    "        \n",
    "        f.close()\n",
    "        self.al_d = resultList_d\n",
    "        self.al_r = resultList_r\n",
    "\n",
    "    def dfs_rev(self):\n",
    "        self.explr = [False for x in range(self.max_i + 1)] # reset explored flags\n",
    "        self.ft_r = [-1 for x in range(self.max_i + 1)]\n",
    "\n",
    "        q_dfs = deque([list(self.al_r.keys())[0]]) # add to a dfs queue the first vertex \n",
    "        fin_time = 0\n",
    "        \n",
    "        while q_dfs:\n",
    "            i = q_dfs.pop() # take a next node to explore \n",
    "            self.explr[i] = True # mark as explored the node i\n",
    "            self.al_r[i].sort() # make a sorted and reversed list of all the nodes \n",
    "            self.al_r[i].reverse()   \n",
    "            a = self.al_r[i]    \n",
    "            \n",
    "            new_vertex_discovered = False\n",
    "            for ver in a:\n",
    "                if self.explr[ver] == False: # if we find a new vertex\n",
    "                    q_dfs.append(ver)\n",
    "                    self.explr[ver] = True \n",
    "                    new_vertex_discovered = True\n",
    "            if new_vertex_discovered == False:\n",
    "                fin_time += 1\n",
    "                self.ft_r[i] = fin_time\n",
    "\n",
    "        \n",
    "    \n",
    "#    def scc\n",
    "    \n",
    "    \n",
    "    \n",
    "  "
   ]
  },
  {
   "cell_type": "code",
   "execution_count": 100,
   "metadata": {},
   "outputs": [
    {
     "name": "stdout",
     "output_type": "stream",
     "text": [
      "/Users/AM/Documents/_Courses/Algorithms/misc\n"
     ]
    }
   ],
   "source": [
    "gr = Graph()\n",
    "gr.find_all_vert('text4.txt')\n"
   ]
  },
  {
   "cell_type": "code",
   "execution_count": 101,
   "metadata": {},
   "outputs": [
    {
     "name": "stdout",
     "output_type": "stream",
     "text": [
      "/Users/AM/Documents/_Courses/Algorithms/misc\n"
     ]
    }
   ],
   "source": [
    "gr.create_adj_lists('text4.txt')"
   ]
  },
  {
   "cell_type": "code",
   "execution_count": 102,
   "metadata": {},
   "outputs": [
    {
     "name": "stdout",
     "output_type": "stream",
     "text": [
      "max vert index 875714 number of vert 875714\n"
     ]
    }
   ],
   "source": [
    "print('max vert index', gr.max_i, 'number of vert', len(gr.vert))"
   ]
  },
  {
   "cell_type": "code",
   "execution_count": 103,
   "metadata": {},
   "outputs": [],
   "source": [
    "gr.dfs_rev()"
   ]
  },
  {
   "cell_type": "code",
   "execution_count": 106,
   "metadata": {},
   "outputs": [
    {
     "data": {
      "text/plain": [
       "[True,\n",
       " True,\n",
       " True,\n",
       " False,\n",
       " True,\n",
       " False,\n",
       " False,\n",
       " False,\n",
       " False,\n",
       " False,\n",
       " False,\n",
       " True,\n",
       " True,\n",
       " True,\n",
       " False,\n",
       " True,\n",
       " True,\n",
       " True,\n",
       " False,\n",
       " False,\n",
       " True,\n",
       " False,\n",
       " True,\n",
       " True,\n",
       " True,\n",
       " False,\n",
       " True,\n",
       " False,\n",
       " True,\n",
       " False,\n",
       " True,\n",
       " True,\n",
       " True]"
      ]
     },
     "execution_count": 106,
     "metadata": {},
     "output_type": "execute_result"
    }
   ],
   "source": [
    "gr.explr[333:366]"
   ]
  },
  {
   "cell_type": "code",
   "execution_count": 59,
   "metadata": {},
   "outputs": [
    {
     "ename": "KeyError",
     "evalue": "774055",
     "output_type": "error",
     "traceback": [
      "\u001b[0;31m---------------------------------------------------------------------------\u001b[0m",
      "\u001b[0;31mKeyError\u001b[0m                                  Traceback (most recent call last)",
      "\u001b[0;32m<ipython-input-59-896274f393d3>\u001b[0m in \u001b[0;36m<module>\u001b[0;34m\u001b[0m\n\u001b[1;32m      1\u001b[0m \u001b[0mi\u001b[0m \u001b[0;34m=\u001b[0m \u001b[0;36m774055\u001b[0m\u001b[0;34m\u001b[0m\u001b[0;34m\u001b[0m\u001b[0m\n\u001b[0;32m----> 2\u001b[0;31m \u001b[0;32mif\u001b[0m \u001b[0mgr\u001b[0m\u001b[0;34m.\u001b[0m\u001b[0mal_r\u001b[0m\u001b[0;34m[\u001b[0m\u001b[0mi\u001b[0m\u001b[0;34m]\u001b[0m\u001b[0;34m:\u001b[0m \u001b[0mprint\u001b[0m\u001b[0;34m(\u001b[0m\u001b[0;34m\"no\"\u001b[0m\u001b[0;34m)\u001b[0m\u001b[0;34m\u001b[0m\u001b[0;34m\u001b[0m\u001b[0m\n\u001b[0m\u001b[1;32m      3\u001b[0m \u001b[0;32melse\u001b[0m\u001b[0;34m:\u001b[0m \u001b[0mprint\u001b[0m\u001b[0;34m(\u001b[0m\u001b[0mgr\u001b[0m\u001b[0;34m.\u001b[0m\u001b[0mal_r\u001b[0m\u001b[0;34m[\u001b[0m\u001b[0mi\u001b[0m\u001b[0;34m]\u001b[0m\u001b[0;34m)\u001b[0m\u001b[0;34m\u001b[0m\u001b[0;34m\u001b[0m\u001b[0m\n",
      "\u001b[0;31mKeyError\u001b[0m: 774055"
     ]
    }
   ],
   "source": [
    "i = 774055\n",
    "if gr.al_r[i]: print(\"no\")\n",
    "else: print(gr.al_r[i])"
   ]
  },
  {
   "cell_type": "code",
   "execution_count": 120,
   "metadata": {},
   "outputs": [
    {
     "data": {
      "text/plain": [
       "{1, 2, 5}"
      ]
     },
     "execution_count": 120,
     "metadata": {},
     "output_type": "execute_result"
    }
   ],
   "source": [
    "a = [1,2,3,3,4,4,4,4,5]\n",
    "b={3,4, 8}\n",
    "type(a)\n",
    "set(a)-b"
   ]
  },
  {
   "cell_type": "code",
   "execution_count": 36,
   "metadata": {},
   "outputs": [
    {
     "name": "stdout",
     "output_type": "stream",
     "text": [
      "7\n",
      "1\n",
      "5\n",
      "3\n"
     ]
    }
   ],
   "source": [
    "a = deque([3,5,4,1,7])\n",
    "while a:\n",
    "    i = a.pop()\n",
    "    if i == 4: continue\n",
    "    print(i)"
   ]
  }
 ],
 "metadata": {
  "kernelspec": {
   "display_name": "Python 3",
   "language": "python",
   "name": "python3"
  },
  "language_info": {
   "codemirror_mode": {
    "name": "ipython",
    "version": 3
   },
   "file_extension": ".py",
   "mimetype": "text/x-python",
   "name": "python",
   "nbconvert_exporter": "python",
   "pygments_lexer": "ipython3",
   "version": "3.8.5"
  },
  "varInspector": {
   "cols": {
    "lenName": 16,
    "lenType": 16,
    "lenVar": 40
   },
   "kernels_config": {
    "python": {
     "delete_cmd_postfix": "",
     "delete_cmd_prefix": "del ",
     "library": "var_list.py",
     "varRefreshCmd": "print(var_dic_list())"
    },
    "r": {
     "delete_cmd_postfix": ") ",
     "delete_cmd_prefix": "rm(",
     "library": "var_list.r",
     "varRefreshCmd": "cat(var_dic_list()) "
    }
   },
   "types_to_exclude": [
    "module",
    "function",
    "builtin_function_or_method",
    "instance",
    "_Feature"
   ],
   "window_display": false
  }
 },
 "nbformat": 4,
 "nbformat_minor": 4
}
