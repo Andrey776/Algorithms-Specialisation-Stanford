{
 "cells": [
  {
   "cell_type": "code",
   "execution_count": 5,
   "metadata": {},
   "outputs": [],
   "source": [
    "import numpy as np\n",
    "from numpy import random as rnd\n",
    "import math\n",
    "import copy\n",
    "import bisect\n",
    "from collections import Counter, deque, namedtuple\n",
    "import functools\n"
   ]
  },
  {
   "cell_type": "code",
   "execution_count": null,
   "metadata": {
    "code_folding": [
     0
    ]
   },
   "outputs": [],
   "source": [
    "# find a chain of unique 2 digits numbers divisable by 7 or 13 (for Pasha)\n",
    "\n",
    "def find_next(digit, list_to_search): #fine tuned\n",
    "    result = []\n",
    "    for i in list_to_search:\n",
    "        x = digit * 10 + int(i)\n",
    "        if x % 13 == 0 or x % 7 == 0:\n",
    "            result.append(i)       \n",
    "            \n",
    "    return(result)\n",
    "             \n",
    "a_master = [i for i in range(1, 10)]\n",
    "\n",
    "for start in a_master:\n",
    "    a_copy = copy.copy(a_master)\n",
    "    path = []\n",
    "    graph = {}\n",
    "    a_copy.remove(start)\n",
    "    path.append(start)\n",
    "    \n",
    "    while a_copy and path:\n",
    "        if not path[-1] in graph.keys():\n",
    "            list_of_next_vert = find_next(path[-1], a_copy)\n",
    "            graph[path[-1]] = list_of_next_vert\n",
    "        #print(f'current path {path}, next verteces are {graph[path[-1]]}')\n",
    "        #print(f'graph.keys {graph.keys()},   still available {a_copy} \\n')\n",
    "        \n",
    "        if len(graph[path[-1]]) == 0: \n",
    "            wrong_step = path.pop()\n",
    "            a_copy.append(wrong_step)\n",
    "            del graph[wrong_step]\n",
    "            flag = False \n",
    "        else:\n",
    "            next_step = graph[path[-1]].pop()\n",
    "            path.append(next_step)\n",
    "            a_copy.remove(next_step)  \n",
    "            flag = True \n",
    "            \n",
    "    if not flag:\n",
    "        print(f'no results for path starting from {start}')\n",
    "    else:\n",
    "        break\n",
    "\n",
    "if flag:\n",
    "    print(f\"we found {path}\")\n",
    "else:\n",
    "    print(f\"we DID NOT found it\")\n",
    "\n",
    "    "
   ]
  },
  {
   "cell_type": "code",
   "execution_count": null,
   "metadata": {},
   "outputs": [],
   "source": [
    "from typing import Dict\n",
    "memo: Dict[int, int] = {0: 0, 1: 1} # our base cases\n",
    "def fib3(n: int) -> int: \n",
    "    if n not in memo:\n",
    "        memo[n] = fib3(n - 1) + fib3(n - 2) # memoization return memo[n]\n",
    "    return(memo[n])"
   ]
  },
  {
   "cell_type": "code",
   "execution_count": null,
   "metadata": {},
   "outputs": [],
   "source": [
    "from typing import Dict\n",
    "memo: Dict[int, int] = {0: 0, 1: 1} # our base cases\n",
    "def fib3(n: int) -> int: \n",
    "    if n not in memo:\n",
    "        memo[n] = fib3(n - 1) + fib3(n - 2) # memoization return memo[n]\n",
    "    return(memo[n])"
   ]
  },
  {
   "cell_type": "code",
   "execution_count": null,
   "metadata": {},
   "outputs": [],
   "source": [
    "math.prod([3141592653589793238462643383279502884197169399375105820974944592,2718281828459045235360287471352662497757247093699959574966967627])"
   ]
  },
  {
   "cell_type": "code",
   "execution_count": null,
   "metadata": {},
   "outputs": [],
   "source": [
    "a = '11111'\n",
    "b = len(a)//2\n",
    "#kar_prod(\"11223\",\"222222\")\n",
    "str(10*int(a[:b]))"
   ]
  },
  {
   "cell_type": "code",
   "execution_count": null,
   "metadata": {},
   "outputs": [],
   "source": [
    "def divide(x,y):\n",
    "    y_power, power, result = (y<<32), 32, 0\n",
    "    while x >= y:\n",
    "        while y_power > x:\n",
    "            y_power >>= 1\n",
    "            power -= 1\n",
    "        x -= y_power\n",
    "        result += (1<<power)\n",
    "    return result, x\n",
    "\n",
    "divide(21,4)"
   ]
  },
  {
   "cell_type": "code",
   "execution_count": null,
   "metadata": {},
   "outputs": [],
   "source": [
    "def power_book(x,y):\n",
    "    power, result = y, 1\n",
    "    while power:\n",
    "        if power & 1: \n",
    "            result = result * x\n",
    "        x = x * x\n",
    "        power >>= 1\n",
    "    return result\n",
    "\n",
    "power_book(3,4)     "
   ]
  },
  {
   "cell_type": "code",
   "execution_count": null,
   "metadata": {},
   "outputs": [],
   "source": [
    "a = 27\n",
    "b = -1\n",
    "c = a^b\n",
    "print(f'{a:05b}\\n{b:05b}\\n{c:05b} XOR\\n', a, -a-1)"
   ]
  },
  {
   "cell_type": "code",
   "execution_count": null,
   "metadata": {},
   "outputs": [],
   "source": [
    "import collections\n",
    "Rectangle = collections.namedtuple('Rectangle', ('x', 'y', 'width', 'height'))"
   ]
  },
  {
   "cell_type": "code",
   "execution_count": null,
   "metadata": {},
   "outputs": [],
   "source": [
    "import copy\n",
    "import bisect  \n",
    "a = {1:[1,2,3,5,6], 2:[4,5,6]}\n",
    "b = copy.deepcopy(a)\n",
    "print(bisect.insort_left(a[1], 1))\n",
    "\n",
    "print('a is', a, 'b is', b)"
   ]
  },
  {
   "cell_type": "code",
   "execution_count": null,
   "metadata": {
    "code_folding": [
     0
    ]
   },
   "outputs": [],
   "source": [
    "def multiply(num1, num2):\n",
    "    sign = -1 if (num1[0] < 0) ^ (num2[0] < 0) else 1 \n",
    "    num1[0] , num2[0] = abs(num1[0]) , abs(num2[0])\n",
    "    result = [0] * (len(num1) + len(num2)) \n",
    "    for i in reversed(range(len(num1))):\n",
    "        for j in reversed(range(len(num2))) :\n",
    "            result[i + j + 1] += num1[i] * num2[j] \n",
    "            result[i + j] += result[i + j + 1] // 10 \n",
    "            result[i+j+1] %= 10\n",
    "    # Renove the Teading zeroes,\n",
    "    print('result with leading zeros', result)\n",
    "    result = result[next((i for i, x in enumerate(result)\n",
    "                            if x != 0), len(result)):] or [0] \n",
    "    return [sign * result[0]] + result[1:]"
   ]
  },
  {
   "cell_type": "code",
   "execution_count": null,
   "metadata": {},
   "outputs": [],
   "source": [
    "print(multiply([1,2,3,4], [5,6,7,8]), 1234*5678)\n",
    "result = multiply([1,2,3,4], [5,6,7,8])\n",
    "result+=[0,0,0]\n",
    "result.reverse()\n",
    "result"
   ]
  },
  {
   "cell_type": "code",
   "execution_count": null,
   "metadata": {},
   "outputs": [],
   "source": [
    "a = next((i for i, x in enumerate(result) if x != 0), 1)\n",
    "#type(i for i, x in enumerate(result) if x != 0)\n",
    "#result[1,4:]\n",
    "print(a)"
   ]
  },
  {
   "cell_type": "code",
   "execution_count": null,
   "metadata": {},
   "outputs": [],
   "source": [
    "for a in ((i for i, x in enumerate(result) if x != 0)):\n",
    "    print(a)"
   ]
  },
  {
   "cell_type": "code",
   "execution_count": null,
   "metadata": {},
   "outputs": [],
   "source": [
    "result = [0]\n",
    "for a in range(10):\n",
    "    for b in range(10):\n",
    "        for c in range(10):\n",
    "            z = 100*a + 10*b + c - 100*c - 10*b - a\n",
    "            zz = z*z\n",
    "            if zz%1 == 0:\n",
    "                result.append(100*a+10*b+c)\n",
    "\n",
    "print(\"we found nothing\", result)"
   ]
  },
  {
   "cell_type": "code",
   "execution_count": null,
   "metadata": {},
   "outputs": [],
   "source": [
    "n = 101\n",
    "\n",
    "prost = False\n",
    "for x in range (2,n):\n",
    "    if n%x == 0: prost = True\n",
    "        \n",
    "print(n, prost)"
   ]
  },
  {
   "cell_type": "code",
   "execution_count": null,
   "metadata": {},
   "outputs": [],
   "source": [
    "a = 43.35 - 0.28\n",
    "x = 2\n",
    "print(f'asd {a:1.5f}')\n",
    "print(f'{x:2.4f} {x*x:3.5f} {x*x*x:4.6f}')\n",
    "a"
   ]
  },
  {
   "cell_type": "code",
   "execution_count": null,
   "metadata": {
    "code_folding": [
     0
    ]
   },
   "outputs": [],
   "source": [
    "# 5.5 remove duplicates from the sorted array\n",
    "a = [1,3,4,4,4,5,6,6,6,7,7,8,9]\n",
    "w_i = 1\n",
    "for i in range(1, len(a)):\n",
    "    if a[i] != a[w_i - 1]:\n",
    "        a[w_i] = a[i]\n",
    "        w_i += 1\n",
    "a[:w_i]"
   ]
  },
  {
   "cell_type": "code",
   "execution_count": null,
   "metadata": {
    "code_folding": [
     0
    ]
   },
   "outputs": [],
   "source": [
    "# 5.9 prime generator\n",
    "def list_of_primes(n):\n",
    "    is_prime = [False, False] + [True]*(n-1)\n",
    "    prime = []\n",
    "    for i in range(2, n+1):\n",
    "        if is_prime[i]:\n",
    "            prime.append(i)\n",
    "            for k in range(i , n + 1, i):\n",
    "                is_prime[k] = False\n",
    "    return(prime)\n",
    "\n",
    "list_of_primes(21)"
   ]
  },
  {
   "cell_type": "code",
   "execution_count": null,
   "metadata": {
    "code_folding": [
     0
    ]
   },
   "outputs": [],
   "source": [
    "#5.16 Generate nonunifirm random number\n",
    "def nonunif_rnd(n, p):\n",
    "    p_acc = []\n",
    "    p_acc.append(p[0])\n",
    "    for i, x in enumerate(p[1:]): \n",
    "        p_acc.append(p_acc[i] + x)\n",
    "    i = bisect.bisect(p_acc, rnd.rand())\n",
    "    \n",
    "    return n[i]\n",
    "\n",
    "n = [1,2,3,4,5]\n",
    "p = [.025, .1, .125, .25, .50]\n",
    "N =10000\n",
    "\n",
    "a = [nonunif_rnd(n,p) for x in range(N)]\n",
    "a.sort()\n",
    "b = list(Counter(a).keys())\n",
    "c = list(Counter(a).values())\n",
    "[i/N  for i in c]"
   ]
  },
  {
   "cell_type": "code",
   "execution_count": null,
   "metadata": {
    "code_folding": [
     0
    ]
   },
   "outputs": [],
   "source": [
    "# 5.17 filter/map/ any function\n",
    "a = list(rnd.randint(1,100,10))\n",
    "b = list(filter(lambda x: x>50, a))\n",
    "c = list(map(lambda x: x*x, b))\n",
    "\n",
    "print(f'before filtering {a}\\nafter filtering {b} \\nafter b**2 map {c}')\n",
    "any(i>100 for i in a)\n"
   ]
  },
  {
   "cell_type": "code",
   "execution_count": null,
   "metadata": {
    "code_folding": [
     0
    ]
   },
   "outputs": [],
   "source": [
    "# 5.20 pascal triangle\n",
    "def pas_tri(n):\n",
    "    pt = [[1]*(i+1) for i in range(n)]\n",
    "    for i in range(n):\n",
    "        for j in range(1,i):\n",
    "            #print(f'i={i} j={j} pt[{i-1}][{j-1}]={pt[i-1][j-1]} pt[{i-1}][{j}]={pt[i-1][j]} \\n')\n",
    "            #print(f'i={i} j={j} pt[{i-1}][{j-1}] + pt[{i-1}][{j}] {pt[i-1][j-1] + pt[i-1][j]} \\n')\n",
    "            #pt[i][j] = pt[i-1][j-1] + pt[i-1][j]\n",
    "            pt[i][j] = pt[i-1][j-1] + pt[i-1][j]\n",
    "\n",
    "    return(pt)\n",
    "    \n",
    "print(pas_tri(5))"
   ]
  },
  {
   "cell_type": "code",
   "execution_count": null,
   "metadata": {
    "code_folding": [
     0
    ]
   },
   "outputs": [],
   "source": [
    "#6.1 int to string\n",
    "\n",
    "def int_to_string(x):\n",
    "    is_negat = False\n",
    "    if x < -0:\n",
    "        x, is_negat = -x, True\n",
    "    s = []\n",
    "    while True:\n",
    "        s.append(chr(ord('0') + x % 10))\n",
    "        x //= 10\n",
    "        if x == 0: break\n",
    "    return ('-'if is_negat else '') + ''.join(reversed(s))\n",
    "\n",
    "int_to_string(234)"
   ]
  },
  {
   "cell_type": "code",
   "execution_count": null,
   "metadata": {
    "code_folding": [
     0
    ]
   },
   "outputs": [],
   "source": [
    "#6.2 base conversion\n",
    "import string\n",
    "def conv(n_as_string, b1, b2):\n",
    "    def construct_from_base(n_as_int, base):\n",
    "        return ('' if n_as_int == 0 else \n",
    "                construct_from_base(n_as_int // base, base) + \n",
    "                string.hexdigits[n_as_int % base].upper())\n",
    "    n = 0\n",
    "    for i in n_as_string:\n",
    "        n = n * b1 + string.hexdigits.index(i)\n",
    "    \n",
    "    return ('0' if n == 0 else construct_from_base(n, b2))\n",
    "\n",
    "conv('1111', 2, 16)"
   ]
  },
  {
   "cell_type": "code",
   "execution_count": null,
   "metadata": {
    "code_folding": [
     0
    ]
   },
   "outputs": [],
   "source": [
    "# 6.3 spreadsheet column encoding\n",
    "\n",
    "def ss_decode(col):\n",
    "    return functools.reduce(\n",
    "        lambda result, c: result * 26 + ord(c) - ord('A') + 1, col, 0)\n",
    "    \n",
    "print(ss_decode(\"A\"))\n",
    "    "
   ]
  },
  {
   "cell_type": "code",
   "execution_count": null,
   "metadata": {
    "code_folding": [
     0
    ]
   },
   "outputs": [],
   "source": [
    "#7.1 linked lists. merge two sorted\n",
    "\n",
    "class ListNode:\n",
    "    def __init__(self, data=0, next_node = None):\n",
    "        self.data = data\n",
    "        self.next_node = next_node\n",
    "    \n",
    "class LinkedList:\n",
    "    def __init__(self):\n",
    "        self.headval = None\n",
    "    \n",
    "    def insert_after(self, node, new_node):\n",
    "        new_node.next = node.next\n",
    "        node.next = new_node\n",
    "\n",
    "    def delete(self, node):\n",
    "        node.next = node.next.next\n",
    "        \n",
    "    def print_LL(self):\n",
    "        a = self.headval\n",
    "        while a.next_node != None:\n",
    "            print(a.data)\n",
    "            a = a.next_node\n",
    "        print(a.data)\n",
    "\n",
    "\n",
    "LL = LinkedList()\n",
    "LL.headval = ListNode(\"Mon\")\n",
    "LN1 = ListNode(\"Tue\")\n",
    "LN2 = ListNode(\"Wed\")\n",
    "LN3 = ListNode(\"Thu\")\n",
    "a =3\n",
    "LL.headval.next_node = LN1\n",
    "LN1.next_node = copy.copy(LN2)\n",
    "LN2.next_node = LN3\n",
    "\n",
    "LN2.data = \"Wedddd\"\n",
    "\n",
    "a = LL.headval.next_node\n",
    "a.next_node.data"
   ]
  },
  {
   "cell_type": "code",
   "execution_count": null,
   "metadata": {
    "code_folding": [
     0
    ]
   },
   "outputs": [],
   "source": [
    "# 8.2 Reverse Polish Notation\n",
    "\n",
    "def evaluate_RPN(RPN_input):\n",
    "    interim_results = []\n",
    "    delimeter = ','\n",
    "    \n",
    "    operator = {\"+\": lambda y, x: x + y, \"-\": lambda y, x: x - y}\n",
    "    \n",
    "    for token in RPN_input.split(delimeter):\n",
    "        if token in operator.keys():\n",
    "            interim_results.append(operator[token](\n",
    "                interim_results.pop(), interim_results.pop()))\n",
    "        else:\n",
    "            interim_results.append(int(token))\n",
    "        print(interim_results)\n",
    "    return(interim_results[-1])\n",
    "\n",
    "evaluate_RPN('3,4,+,5,-, 4,+')\n",
    "        \n"
   ]
  },
  {
   "cell_type": "code",
   "execution_count": null,
   "metadata": {
    "code_folding": [
     0
    ]
   },
   "outputs": [],
   "source": [
    "# 8.3 well-formedness check\n",
    "\n",
    "def check_string(input_string):\n",
    "    stack = []\n",
    "    dict_open = {'{': 1, '[': 2, '(': 3}\n",
    "    dict_close = {'}': -1, ']': -2, ')': -3}\n",
    "    \n",
    "    for token in input_string:\n",
    "        if token in dict_open.keys():\n",
    "            stack.append(dict_open[token])\n",
    "            flag = True\n",
    "        elif dict_close[token] + stack.pop() != 0: \n",
    "                flag = False\n",
    "                break\n",
    "    \n",
    "    return(flag)\n",
    "\n",
    "check_string('(({{[]}}(){}))')\n"
   ]
  },
  {
   "cell_type": "code",
   "execution_count": null,
   "metadata": {
    "code_folding": [
     0
    ]
   },
   "outputs": [],
   "source": [
    "# 8.5 sunset view building\n",
    "\n",
    "def sunset_check(heights): # heights from east to west\n",
    "    sunset_stack = [0]\n",
    "    for b in heights:\n",
    "        while sunset_stack and b >= sunset_stack[-1]:\n",
    "            sunset_stack.pop()\n",
    "        sunset_stack.append(b)\n",
    "    return(sunset_stack)\n",
    "\n",
    "sunset_check([20,15,16, 14,12,9,11])\n",
    "        "
   ]
  },
  {
   "cell_type": "code",
   "execution_count": null,
   "metadata": {
    "code_folding": [
     0
    ]
   },
   "outputs": [],
   "source": [
    "# 8.9 queue with max API\n",
    "\n",
    "class QueueeWithMax:\n",
    "    def __init__(self): \n",
    "        self.data = deque()\n",
    "        self.cand_for_max = deque()\n",
    "    \n",
    "    def enq(self, x) -> None:\n",
    "        self.data.append(x)\n",
    "        while self.cand_for_max and self.cand_for_max[-1] < x:\n",
    "            self.cand_for_max.pop()\n",
    "        self.cand_for_max.append(x)\n",
    "        \n",
    "    def deq(self):\n",
    "        if self.data:\n",
    "            if self.data[0] == self.cand_for_max[0]:\n",
    "                self.cand_for_max.popleft()\n",
    "            return self.data.popleft()\n",
    "        raise IndexError(\"empty queue\")\n",
    "    \n",
    "    def max(self):\n",
    "        return self.cand_for_max[0]\n",
    "        \n",
    "        \n",
    "if __name__ == \"__main__\":\n",
    "    a = QueueeWithMax()\n",
    "    for _ in range(11): a.enq(rnd.randint(1,100))   \n",
    "    print(f'{a.data} \\n{a.cand_for_max}, max is {a.cand_for_max[0]}')\n",
    "    for _ in range(3): a.deq()\n",
    "    print(f'after 3 deq \\n{a.data} \\n{a.cand_for_max}, max is {a.cand_for_max[0]}')\n",
    "\n",
    "\n"
   ]
  },
  {
   "cell_type": "code",
   "execution_count": 74,
   "metadata": {
    "code_folding": [
     0
    ]
   },
   "outputs": [],
   "source": [
    "#9.3is a binary tree simmetric?\n",
    "class Node:\n",
    "        def __init__ (self, data, left = None, right = None):\n",
    "            self.data = data\n",
    "            self.left = left\n",
    "            self.right = right\n",
    "            \n",
    "        def add_node (self, direction, data, left = None, right = None): #direction 0 - left, 1 - right\n",
    "            if not direction:\n",
    "                self.left = Node(data, left, right)\n",
    "            else:\n",
    "                self.right = Node(data, left, right)\n",
    "                \n",
    "class Bin_Tree:\n",
    "        \n",
    "    def __init__(self, data, left, right):\n",
    "        self.root = Node(data, left, right)\n",
    "    \n",
    "    \n",
    "    def is_symmetric(self):\n",
    "        \n",
    "        def check_symmetric(node_left, node_right):\n",
    "            if not node_left and not node_right:\n",
    "                return(True)\n",
    "            elif node_left and node_right:\n",
    "                result = node_left.data == node_right.data and\\\n",
    "                check_symmetric(node_left.left, node_right.right) and\\\n",
    "                check_symmetric(node_left.right, node_right.left)\n",
    "            \n",
    "                return(result)\n",
    "            return(False)\n",
    "        \n",
    "        return check_symmetric(self.root.left, self.root.right)\n",
    "  \n",
    "        \n",
    "if __name__ == \"__main__\":\n",
    "    b = Bin_Tree(11, None, None)\n",
    "    #print(b.is_symmetric())"
   ]
  },
  {
   "cell_type": "code",
   "execution_count": 75,
   "metadata": {},
   "outputs": [
    {
     "name": "stdout",
     "output_type": "stream",
     "text": [
      "21\n"
     ]
    },
    {
     "data": {
      "text/plain": [
       "True"
      ]
     },
     "execution_count": 75,
     "metadata": {},
     "output_type": "execute_result"
    }
   ],
   "source": [
    "b.root.add_node(direction=False, data=21)\n",
    "b.root.add_node(direction=True, data=21)\n",
    "\n",
    "print(b.root.left.data)\n",
    "b.is_symmetric()"
   ]
  },
  {
   "cell_type": "code",
   "execution_count": null,
   "metadata": {
    "code_folding": []
   },
   "outputs": [],
   "source": [
    "#import string\n",
    "def crs(n):    \n",
    "    return functools.reduce(\n",
    "        lambda x,y: x + str(y), range(n), '')\n",
    "#string.hexdigits.index('f')\n",
    "#a.find(b' ',0)\n",
    "a = crs(10)\n",
    "a[3::2]"
   ]
  },
  {
   "cell_type": "code",
   "execution_count": null,
   "metadata": {},
   "outputs": [],
   "source": [
    "graph = {}\n",
    "graph[1] = [1,2,3]\n",
    "graph[11] = [11,22,33]\n",
    "graph[1].pop()\n",
    "graph[1].pop()\n",
    "graph[1].pop()\n",
    "\n",
    "print(graph)\n",
    "\n",
    "if graph[1]:\n",
    "    print(True)\n",
    "else:\n",
    "    print(False)\n",
    "\n",
    "1 in graph.keys()"
   ]
  },
  {
   "cell_type": "code",
   "execution_count": null,
   "metadata": {},
   "outputs": [],
   "source": [
    "Cat = namedtuple(\"CAT\", \"name, color, age\")\n",
    "a = Cat(\"Cat1\", \"black\", 12)\n",
    "b = Cat(\"Cat2\", \"white\", 1)\n",
    "print(a,b)"
   ]
  },
  {
   "cell_type": "code",
   "execution_count": null,
   "metadata": {},
   "outputs": [],
   "source": [
    "a = [1,2,3,4]\n",
    "for i in range(4):\n",
    "    print(f'a[~{i}] {a[~i]}; a[{i}] {a[i]}')\n",
    "\n",
    "ord('c')"
   ]
  },
  {
   "cell_type": "code",
   "execution_count": null,
   "metadata": {},
   "outputs": [],
   "source": [
    "0.35 - 0.28"
   ]
  },
  {
   "cell_type": "code",
   "execution_count": null,
   "metadata": {},
   "outputs": [],
   "source": [
    "math.fsum([0.35, -0.28])"
   ]
  },
  {
   "cell_type": "code",
   "execution_count": null,
   "metadata": {},
   "outputs": [],
   "source": [
    "print(sum([0.1] * 10))\n",
    "\n",
    "\n"
   ]
  },
  {
   "cell_type": "code",
   "execution_count": null,
   "metadata": {},
   "outputs": [],
   "source": [
    "math.fsum([0.1] * 10) == 1.0\n"
   ]
  },
  {
   "cell_type": "code",
   "execution_count": null,
   "metadata": {},
   "outputs": [],
   "source": [
    "price_list = {1:('aaa', 100), 2:('bbb', 200), 3:('ccc',250)}\n",
    "print(\"WE HAVE FOR YOU:\")\n",
    "for i in price_list.keys():   \n",
    "    print(f'# {i} product name: {price_list[i][0]}, price is {price_list[i][1]} \\n')\n",
    "print(\"ENTER NUMBERS OF PRODUCTS YOU NEED\")"
   ]
  },
  {
   "cell_type": "code",
   "execution_count": null,
   "metadata": {},
   "outputs": [],
   "source": [
    "0.32*2 + 0.25*3 + 0.2*4+0.18*5 + 0.05*5"
   ]
  },
  {
   "cell_type": "code",
   "execution_count": null,
   "metadata": {},
   "outputs": [],
   "source": [
    "0.32*1 + 0.25*2 + 0.2*3+0.18*4 + 0.05*5"
   ]
  },
  {
   "cell_type": "code",
   "execution_count": null,
   "metadata": {},
   "outputs": [],
   "source": [
    "(0.5+0.8*2+0.53*3)/1.83"
   ]
  }
 ],
 "metadata": {
  "kernelspec": {
   "display_name": "Python 3",
   "language": "python",
   "name": "python3"
  },
  "language_info": {
   "codemirror_mode": {
    "name": "ipython",
    "version": 3
   },
   "file_extension": ".py",
   "mimetype": "text/x-python",
   "name": "python",
   "nbconvert_exporter": "python",
   "pygments_lexer": "ipython3",
   "version": "3.8.5"
  },
  "varInspector": {
   "cols": {
    "lenName": 16,
    "lenType": 16,
    "lenVar": 40
   },
   "kernels_config": {
    "python": {
     "delete_cmd_postfix": "",
     "delete_cmd_prefix": "del ",
     "library": "var_list.py",
     "varRefreshCmd": "print(var_dic_list())"
    },
    "r": {
     "delete_cmd_postfix": ") ",
     "delete_cmd_prefix": "rm(",
     "library": "var_list.r",
     "varRefreshCmd": "cat(var_dic_list()) "
    }
   },
   "types_to_exclude": [
    "module",
    "function",
    "builtin_function_or_method",
    "instance",
    "_Feature"
   ],
   "window_display": false
  }
 },
 "nbformat": 4,
 "nbformat_minor": 4
}
