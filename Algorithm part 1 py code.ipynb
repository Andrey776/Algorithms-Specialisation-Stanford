{
 "cells": [
  {
   "cell_type": "code",
   "execution_count": 947,
   "metadata": {},
   "outputs": [],
   "source": [
    "import numpy as np\n",
    "from numpy import random as rnd\n",
    "import math\n",
    "import copy"
   ]
  },
  {
   "cell_type": "code",
   "execution_count": 120,
   "metadata": {
    "code_folding": [
     2
    ]
   },
   "outputs": [],
   "source": [
    "# week 1.1 Programming assignment\n",
    "def kar_prod(x,y):\n",
    "    if len(y) == 1: \n",
    "        p = str(int(x) * int(y))\n",
    "        return p\n",
    "    n = len(y) - len(y)//2\n",
    "    a = (x[:n])\n",
    "    b = (x[n:])\n",
    "    c = (y[:n])\n",
    "    d = (y[n:])\n",
    "    p = 10**(len(y)) * int(kar_prod(a, c)) + 10**(len(y)//2) * (int(kar_prod(a,d)) + int(kar_prod(b,c))) + int(kar_prod(b,d))\n",
    "    #p = 10**( * kar_prod(a, c) + 10**n * (kar_prod(a,d) + kar_prod(b,c) + kar_prod(b,d))\n",
    "\n",
    "    return (p)"
   ]
  },
  {
   "cell_type": "code",
   "execution_count": 176,
   "metadata": {
    "code_folding": [
     1
    ]
   },
   "outputs": [],
   "source": [
    "# week 1.2 Programming assignment\n",
    "def count_inversions(A):\n",
    "    \n",
    "    def count_subarray_inversions(i_min, i_max):\n",
    "        # modifies a[i_min, i_max] (i.e. sorts it) \n",
    "        # and counts inversion during this modification\n",
    "        def merge_sort_and_count_inversions(i_min, i_mid, i_max):\n",
    "            A_sorted = []\n",
    "            left_start , right_start , inversion_count = i_min, i_mid, 0\n",
    "            while (left_start < i_mid and right_start < i_max):\n",
    "                if A[left_start] <= A[right_start]: \n",
    "                    A_sorted.append(A[left_start])\n",
    "                    left_start += 1\n",
    "                else:\n",
    "                    inversion_count += i_mid - left_start\n",
    "                    A_sorted.append(A[right_start])\n",
    "                    right_start += 1\n",
    "                \n",
    "            A[i_min:i_max] = A_sorted + A[left_start:i_mid] + A[right_start:i_max]\n",
    "            return inversion_count\n",
    "    \n",
    "        if i_max-i_min <=1: return 0\n",
    "        i_mid = (i_min + i_max) // 2\n",
    "        return(count_subarray_inversions(i_min, i_mid) + \n",
    "           count_subarray_inversions(i_mid, i_max) + \n",
    "           merge_sort_and_count_inversions(i_min, i_mid, i_max))\n",
    "\n",
    "    return count_subarray_inversions(0, len(A))          "
   ]
  },
  {
   "cell_type": "code",
   "execution_count": 181,
   "metadata": {},
   "outputs": [
    {
     "data": {
      "text/plain": [
       "2407905288"
      ]
     },
     "execution_count": 181,
     "metadata": {},
     "output_type": "execute_result"
    }
   ],
   "source": [
    "count_inversions(df)"
   ]
  },
  {
   "cell_type": "code",
   "execution_count": 329,
   "metadata": {
    "code_folding": [
     0
    ]
   },
   "outputs": [],
   "source": [
    "def read_a_file(file_name):\n",
    "    %pwd\n",
    "    %cd /Users/AM/Documents/_Courses/Algorithms/Misc\n",
    "    file = open(file_name, 'r') \n",
    "    df = file.readlines()\n",
    "    df = [x.strip() for x in df] \n",
    "    df = list(map(int, df))\n",
    "    return df"
   ]
  },
  {
   "cell_type": "code",
   "execution_count": null,
   "metadata": {
    "code_folding": [
     0,
     1
    ]
   },
   "outputs": [],
   "source": [
    "# week 1.3 Programming assignment. Part 1 QUICK SORT\n",
    "def quick_sort(A):\n",
    "    def sort_and_count(i_min, i_max):\n",
    "        i = i_min # left-right border index\n",
    "        j = i_min + 1 # partitioned part index\n",
    "        pivot = A[i_min]\n",
    "        if i_max - i_min == 1: return 0\n",
    "        if i_max - i_min == 0: return 0\n",
    "        while j < i_max:\n",
    "            if pivot > A[j]:\n",
    "                swap = A[j] # store the next smaller A\n",
    "                A[j] = A[i+1] # move the pivot one step right\n",
    "                A[i+1] = swap # place the next smaller A left of new pivot\n",
    "                i += 1 # update the left-right border index\n",
    "            j += 1 # update the partitioned part index\n",
    "        A[i_min] = A[i]\n",
    "        A[i] = pivot\n",
    "        \n",
    "        n_comp = sort_and_count(i_min, i) + sort_and_count(i+1, i_max) + (i_max - 1) - i_min\n",
    "        return n_comp     \n",
    "        \n",
    "    return sort_and_count(0, len(A))\n",
    "\n",
    "l = read_a_file('text2.txt')\n",
    "quick_sort(l)\n",
    "\n",
    "#a = [10,12, 11]\n",
    "#print(quick_sort(a), a)\n"
   ]
  },
  {
   "cell_type": "code",
   "execution_count": null,
   "metadata": {
    "code_folding": [
     0,
     2
    ]
   },
   "outputs": [],
   "source": [
    "# week 1.3 Programming assignment. Part 2\n",
    "\n",
    "def quick_sort_1(A):\n",
    "    def sort_and_count(i_min, i_max):\n",
    "        i=i_min # left-right border index\n",
    "        j=i_min + 1 # partitioned part index\n",
    "        \n",
    "        if i_max - i_min == 1: return 0\n",
    "        if i_max - i_min == 0: return 0\n",
    "        \n",
    "        swap = A[i_min] \n",
    "        A[i_min] = A[i_max - 1]\n",
    "        A[i_max - 1] = swap\n",
    "        \n",
    "        pivot = A[i_min]\n",
    "        while j < i_max:\n",
    "            if pivot > A[j]:\n",
    "                swap = A[j] # store the next smaller A\n",
    "                A[j] = A[i+1] # move the pivot one step right\n",
    "                A[i+1] = swap # place the next smaller A left of new pivot\n",
    "                i += 1 # update the left-right border index\n",
    "            j += 1 # update the partitioned part index\n",
    "        A[i_min] = A[i]\n",
    "        A[i] = pivot\n",
    "        \n",
    "        n_comp = sort_and_count(i_min, i) + sort_and_count(i+1, i_max) + (i_max - 1) - i_min\n",
    "        return n_comp     \n",
    "        \n",
    "    return sort_and_count(0, len(A))\n",
    "\n",
    "l = read_a_file('text2.txt')\n",
    "quick_sort_1(l)"
   ]
  },
  {
   "cell_type": "code",
   "execution_count": null,
   "metadata": {
    "code_folding": [
     0,
     2
    ]
   },
   "outputs": [],
   "source": [
    "# week 1.3 Programming assignment. Part 3\n",
    "\n",
    "def quick_sort_2(A):\n",
    "    def sort_and_count(i_min, i_max):\n",
    "        i=i_min # left-right border index\n",
    "        j=i_min + 1 # partitioned part index\n",
    "        \n",
    "        if i_max - i_min == 1: return 0\n",
    "        if i_max - i_min == 0: return 0\n",
    "        if (i_min + i_max) % 2 == 1: \n",
    "            i_mid = (i_min + i_max) // 2\n",
    "        else: i_mid = (i_min + i_max) // 2 - 1\n",
    "        \n",
    "        \n",
    "        if A[i_min] <= A[i_mid] and A[i_mid] <= A[i_max-1]: i_med = i_mid\n",
    "        if A[i_max-1] <= A[i_mid] and A[i_mid] <= A[i_min]: i_med = i_mid\n",
    "\n",
    "        if A[i_mid] <= A[i_min] and A[i_min] <= A[i_max-1]: i_med = i_min\n",
    "        if A[i_max-1] <= A[i_min] and A[i_min] <= A[i_mid]: i_med = i_min\n",
    "\n",
    "        if A[i_min] <= A[i_max-1] and A[i_max-1] <= A[i_mid]: i_med = i_max - 1\n",
    "        if A[i_mid] <= A[i_max-1] and A[i_max-1] <= A[i_min]: i_med = i_max - 1\n",
    "            \n",
    "        swap = A[i_min] \n",
    "        A[i_min] = A[i_med]\n",
    "        A[i_med] = swap\n",
    "        \n",
    "        pivot = A[i_min]\n",
    "        while j < i_max:\n",
    "            if pivot > A[j]:\n",
    "                swap = A[j] # store the next smaller A\n",
    "                A[j] = A[i+1] # move the pivot one step right\n",
    "                A[i+1] = swap # place the next smaller A left of new pivot\n",
    "                i += 1 # update the left-right border index\n",
    "            j += 1 # update the partitioned part index\n",
    "        A[i_min] = A[i]\n",
    "        A[i] = pivot\n",
    "        \n",
    "        n_comp = sort_and_count(i_min, i) + sort_and_count(i+1, i_max) + (i_max - 1) - i_min\n",
    "        return n_comp     \n",
    "        \n",
    "    return sort_and_count(0, len(A))\n",
    "\n",
    "l = read_a_file('text2.txt')\n",
    "quick_sort_2(l)"
   ]
  },
  {
   "cell_type": "code",
   "execution_count": 885,
   "metadata": {
    "code_folding": [
     0
    ]
   },
   "outputs": [],
   "source": [
    "def read_a_table(file_name):\n",
    "    %pwd\n",
    "    %cd /Users/AM/Documents/_Courses/Algorithms/Misc\n",
    "    # load a comma-delimited text file into an np matrix\n",
    "    resultList = {}\n",
    "    f = open(file_name, 'r')\n",
    "    for line in f:\n",
    "        aa = line.rstrip('\\n')  # \"1.0 \\t 2.0 \\t 3.0\"\n",
    "        sVals = aa.split('\\t')\n",
    "        sVals_s = sVals[:-1] # remove the last ''\n",
    "        intVals = list(map(np.int, sVals_s))  # [1.0, 2.0, 3.0]\n",
    "        resultList[intVals[0]] = intVals[1:]\n",
    "    \n",
    "    f.close()\n",
    "    out = resultList\n",
    "    return out#np.asarray(resultList, dtype=np.int)  "
   ]
  },
  {
   "cell_type": "code",
   "execution_count": 908,
   "metadata": {},
   "outputs": [
    {
     "name": "stdout",
     "output_type": "stream",
     "text": [
      "/Users/AM/Documents/_Courses/Algorithms/misc\n"
     ]
    }
   ],
   "source": [
    "a = read_a_table('text3.txt')"
   ]
  },
  {
   "cell_type": "code",
   "execution_count": 1071,
   "metadata": {
    "code_folding": [
     68
    ]
   },
   "outputs": [],
   "source": [
    "# week 1.4 Programming assignment. MIN CUT\n",
    "class Graph(object):\n",
    "    '''there should be no parallel edges '''\n",
    "    def __init__(self, a):\n",
    "        self.al = a # adjacency list of the graph\n",
    "        #self.al_master = copy.deepcopy(a)\n",
    "        #self.vertices = list(a[:,0]) # unique number of vertices of the graph\n",
    "    \n",
    " \n",
    "    def connect_vertices(self, v1,v2):\n",
    "        '''\n",
    "        Connect vertices v1 and v2 and removes edges between v1 and v2\n",
    "        Parallel edges from the newly formed verix (v1+v2) are not removed\n",
    "        '''\n",
    "        remaining_vertex = min(v1,v2)\n",
    "        disappearing_vertex = max(v1,v2)\n",
    "        self.al[remaining_vertex] += self.al[disappearing_vertex]\n",
    "            \n",
    "        # delete the second vertex    \n",
    "        del self.al[disappearing_vertex] \n",
    "        # replace disappearing vertex for remaining in all the verteces\n",
    "        for i in list(self.al):\n",
    "            while self.al[i].count(disappearing_vertex) !=0:\n",
    "                self.al[i].remove(disappearing_vertex)\n",
    "                self.al[i].append(remaining_vertex)\n",
    "        # remove edges from remaining to remaining vertex\n",
    "        while self.al[remaining_vertex].count(remaining_vertex) !=0:\n",
    "            self.al[remaining_vertex].remove(remaining_vertex)  \n",
    "    \n",
    "    def find_two_rand_vert(self, seed = 111):\n",
    "        '''choses two random verteces from the remaining in self.al'''\n",
    "        #ver1 = rnd.choice(list(self.al) ,1 , replace = False)\n",
    "        ver1 = rnd.choice(list(self.al.keys()))\n",
    "        ver2 = rnd.choice(list(self.al[ver1]))\n",
    "        return ver1, ver2\n",
    "    \n",
    "    def find_a_cut(self):\n",
    "        '''merge v1 and v2 verteces and removes the one with higher index\n",
    "        and returns number of remaining vert'''\n",
    "        while len(list(self.al)) > 2:\n",
    "            ver = self.find_two_rand_vert()\n",
    "            self.connect_vertices(ver[0], ver[1])\n",
    "        return len(self.al[list(self.al)[0]])    \n",
    "           \n",
    "    def find_min_cut(self):\n",
    "        '''by randomly merging by 2 verteces returns number of edges between the final two'''\n",
    "        min_cut_len = 1000 #len(list(self.al))\n",
    "        al_master = copy.deepcopy(self.al)\n",
    "        for i in range(30):\n",
    "            self.al = copy.deepcopy(al_master)\n",
    "            x = self.find_a_cut()\n",
    "            print('current iteration_',i, end = '\\r')\n",
    "            if min_cut_len > x: \n",
    "                min_cut_len = x\n",
    "                al_min_cut = copy.deepcopy(self.al)\n",
    "                print('\\r min_cut_len found after iteration_',i, 'is:', x, '\\n')\n",
    "\n",
    "        self.al = copy.deepcopy(al_master)\n",
    "        return min_cut_len, al_min_cut\n",
    "    \n",
    "    def test(self):\n",
    "        g = {1:[2,4,5], 2:[1,3], 3:[2,4,5], 4:[1,3,5], 5:[1,3,4]}\n",
    "        self.al = g\n",
    "        print('before connection\\n', self.al)\n",
    "        self.connect_vertices(5,2)\n",
    "        print('after 1st connection\\n', self.al)\n",
    "        self.connect_vertices(3,4)\n",
    "        print('after 2st connection\\n', self.al)\n",
    "\n",
    "    def test2(self):\n",
    "        g = {1:[2,4,5], 2:[1,3], 3:[2,4,5], 4:[1,3,5], 5:[1,3,4]}\n",
    "        self.al = g\n",
    "        print('before the test 2 \\n', self.al)\n",
    "        l = self.find_a_cut()\n",
    "        print('test results:\\n', self.al, 'length of the found cut', l)\n",
    "    "
   ]
  },
  {
   "cell_type": "code",
   "execution_count": 1072,
   "metadata": {},
   "outputs": [
    {
     "name": "stdout",
     "output_type": "stream",
     "text": [
      "/Users/AM/Documents/_Courses/Algorithms/misc\n",
      " min_cut_len found after iteration_ 0 is: 45 \n",
      "\n",
      " min_cut_len found after iteration_ 1 is: 31 \n",
      "\n",
      " min_cut_len found after iteration_ 2 is: 20 \n",
      "\n",
      " min_cut_len found after iteration_ 7 is: 17 \n",
      "\n",
      "current iteration_ 29\n",
      " length of the found min_cut is 17\n"
     ]
    }
   ],
   "source": [
    "a = read_a_table('text3.txt')\n",
    "gr = Graph(a)\n",
    "min_cut = gr.find_min_cut()\n",
    "print('\\n length of the found min_cut is', min_cut[0])"
   ]
  }
 ],
 "metadata": {
  "kernelspec": {
   "display_name": "Python 3",
   "language": "python",
   "name": "python3"
  },
  "language_info": {
   "codemirror_mode": {
    "name": "ipython",
    "version": 3
   },
   "file_extension": ".py",
   "mimetype": "text/x-python",
   "name": "python",
   "nbconvert_exporter": "python",
   "pygments_lexer": "ipython3",
   "version": "3.8.5"
  },
  "varInspector": {
   "cols": {
    "lenName": 16,
    "lenType": 16,
    "lenVar": 40
   },
   "kernels_config": {
    "python": {
     "delete_cmd_postfix": "",
     "delete_cmd_prefix": "del ",
     "library": "var_list.py",
     "varRefreshCmd": "print(var_dic_list())"
    },
    "r": {
     "delete_cmd_postfix": ") ",
     "delete_cmd_prefix": "rm(",
     "library": "var_list.r",
     "varRefreshCmd": "cat(var_dic_list()) "
    }
   },
   "types_to_exclude": [
    "module",
    "function",
    "builtin_function_or_method",
    "instance",
    "_Feature"
   ],
   "window_display": false
  }
 },
 "nbformat": 4,
 "nbformat_minor": 4
}
