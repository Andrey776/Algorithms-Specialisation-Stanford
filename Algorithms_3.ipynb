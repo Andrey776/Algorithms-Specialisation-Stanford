{
 "cells": [
  {
   "cell_type": "code",
   "execution_count": 1,
   "metadata": {},
   "outputs": [],
   "source": [
    "import numpy as np\n",
    "import pandas as pd\n",
    "import time\n",
    "from collections import namedtuple, deque\n",
    "from numpy import random as rnd\n",
    "from functools import reduce\n",
    "import copy\n",
    "import matplotlib.pyplot as plt\n",
    "import sklearn.linear_model\n",
    "from sklearn.metrics import mean_squared_error, r2_score\n",
    "from sklearn.linear_model import LogisticRegression\n",
    "from sklearn.preprocessing import PolynomialFeatures\n",
    "from numpy import random as rnd\n",
    "\n",
    "%matplotlib inline\n"
   ]
  },
  {
   "cell_type": "code",
   "execution_count": null,
   "metadata": {
    "code_folding": [
     0
    ]
   },
   "outputs": [],
   "source": [
    "# Programming assignment 3.1.1&2 minimizing the weighted sum of completion times.\n",
    "\n",
    "def score1(w, l):\n",
    "    return w - l\n",
    "\n",
    "def score2(w, l):\n",
    "    return w/float(l)\n",
    "\n",
    "def sortJobs (jobList, scoreFunc):\n",
    "    scoreJobList = [(w,l, scoreFunc (w,l)) for w, l in jobList ]\n",
    "    scoreJobList.sort(key=lambda tup: tup[0], reverse=True)   # sort by weight first to resolve ties\n",
    "    scoreJobList.sort(key=lambda tup: tup[2], reverse=True)   # sort by score function\n",
    "    return scoreJobList;\n",
    "\n",
    "def loadData(fName):\n",
    "    with open(fName,'r') as fileObj:\n",
    "        lines = fileObj.readlines()\n",
    "        numJobs = int (lines[0].strip())\n",
    "        jobList = [ (int(line.split()[0]), int(line.split()[1])) for line in lines[1:]]\n",
    "    return jobList\n",
    "\n",
    "def sumCompletionTimes (sortedJobList):\n",
    "    weightedSum = 0\n",
    "    lengthSum = 0\n",
    "    \n",
    "    for job in sortedJobList:\n",
    "        lengthSum += job[1]\n",
    "        weightedSum += job[0] * lengthSum\n",
    "        \n",
    "    return weightedSum, lengthSum\n",
    "    \n",
    "def main(fName):\n",
    "    %cd /Users/AM/Documents/_Courses/Algorithms/Misc\n",
    "    jobList = loadData(fName);\n",
    "    scoreJobList = sortJobs(jobList, score1)    #change to score1 or score2\n",
    "    weightedSum, lengthSum = sumCompletionTimes (scoreJobList)\n",
    "    print(weightedSum, lengthSum)\n",
    "    \n",
    "if __name__ == '__main__':\n",
    "    main('text_3_1_jobs.txt')\n",
    "    \n",
    "#Score1: 69119377652 510289\n",
    "#Score2: 67311454237 510289"
   ]
  },
  {
   "cell_type": "code",
   "execution_count": null,
   "metadata": {
    "code_folding": [
     0
    ]
   },
   "outputs": [],
   "source": [
    "# Programming assignment 3.1.3 Prim's Minimum Spanning tree.\n",
    "\n",
    "\n",
    "def getGraph(fPath = \"text_3_1_edges.txt\"):\n",
    "    edgeList = []\n",
    "    %cd /Users/AM/Documents/_Courses/Algorithms/Misc\n",
    "    with open(fPath) as f:\n",
    "        lines = f.read().splitlines()\n",
    "        numNodes, numEdges = [int(el) for el in lines[0].split() ]\n",
    "        for line in lines[1:]:\n",
    "            node1, node2, edgeCost = [int(el) for el in line.split() ]\n",
    "            edgeList.append((node1, node2, edgeCost))\n",
    "            \n",
    "    return edgeList, numNodes, numEdges\n",
    "\n",
    "\n",
    "def prim(edgeList, numNodes):\n",
    "    \n",
    "    X = set()   # explored nodes\n",
    "    V = set(range(1, numNodes+1))   # unexplored nodes\n",
    "    E = set()   # set edges of MST\n",
    "    totalCost = 0   # total sum of edge cost of the MST\n",
    "    \n",
    "    start = 1\n",
    "    X.add(start)\n",
    "    V.remove(start)\n",
    "    \n",
    "    while V:\n",
    "        # look at all edges crossing the X and V sets\n",
    "        lowestCost = float('inf')\n",
    "        foundNodeX = None\n",
    "        foundNodeV = None\n",
    "        new_edge_in_X = None\n",
    "        \n",
    "        for edge in edgeList:\n",
    "            if edge[0] in X and edge[1] in V:\n",
    "                if edge[2] < lowestCost:\n",
    "                    foundNodeX = edge[0]\n",
    "                    foundNodeV = edge[1]\n",
    "                    lowestCost = edge[2]\n",
    "                    new_edge_in_X = edge\n",
    "                    \n",
    "            elif edge[1] in X and edge[0] in V:\n",
    "                if edge[2] < lowestCost:\n",
    "                    foundNodeX = edge[1]\n",
    "                    foundNodeV = edge[0]\n",
    "                    lowestCost = edge[2]\n",
    "                    new_edge_in_X = edge\n",
    "\n",
    "        \n",
    "        #print(\"FoundNodeX: {0}, FoundNodeV: {1}\".format(foundNodeX, foundNodeV))\n",
    "        edgeList.remove(new_edge_in_X)\n",
    "        X.add(foundNodeV)\n",
    "        V.remove(foundNodeV)\n",
    "        E.add((foundNodeX, foundNodeV, lowestCost))\n",
    "        totalCost += lowestCost\n",
    "        \n",
    "    return E, totalCost\n",
    "        \n",
    "if __name__ == '__main__':\n",
    "    edgeList, numNodes, numEdges = getGraph()\n",
    "    t0 = time.time()\n",
    "    E, totalCost = prim(edgeList, numNodes)\n",
    "    t1 = time.time()\n",
    "\n",
    "    print(f\"Total cost: {totalCost}, time spent {t1 - t0}\")"
   ]
  },
  {
   "cell_type": "code",
   "execution_count": null,
   "metadata": {
    "code_folding": [
     0
    ]
   },
   "outputs": [],
   "source": [
    "# Programming assignment 3.2.1 clustering\n",
    "class Clust:\n",
    "    \n",
    "    def __init__ (self, file_name):\n",
    "        %cd /Users/AM/Documents/_Courses/Algorithms/Misc\n",
    "        with open(file_name) as file:\n",
    "            lines = file.read().splitlines()\n",
    "        self.n_nodes = self.n_clust = int(lines[0])\n",
    "        self.min_dist = 0\n",
    "        self.edges = [] # [node_1, node_2, cost]\n",
    "        self.node_to_leader = {} # {node as key: leader}\n",
    "        self.leader_to_nodes = {} # {leader as key: [nodes]}\n",
    "\n",
    "        for line in lines[1:]:\n",
    "            node_1, node_2, cost = [int(a) for a in line.split()]\n",
    "            self.edges.append((node_1, node_2, cost))\n",
    "        \n",
    "        self.edges.sort(key=lambda x: x[2])\n",
    "        self.edges = deque(self.edges)\n",
    "        \n",
    "        for i in range(self.n_nodes + 1):\n",
    "            self.node_to_leader[i] = i\n",
    "            self.leader_to_nodes[i] = [i]      \n",
    "\n",
    "    def merge_nodes(self, n1, n2):\n",
    "        leader_1 = self.node_to_leader[n1]\n",
    "        leader_2 = self.node_to_leader[n2]\n",
    "        for node in self.leader_to_nodes[leader_2]: # no time to implement change of the leader for the smallest cluster\n",
    "            self.node_to_leader[node] = leader_1\n",
    "        self.leader_to_nodes[leader_1].extend(self.leader_to_nodes[leader_2])\n",
    "        self.n_clust -= 1\n",
    "        del self.leader_to_nodes[leader_2]\n",
    "\n",
    "        \n",
    "    def cluster(self):    \n",
    "        while self.n_clust > 4:\n",
    "            edge = self.edges.popleft()\n",
    "            node_1, node_2 = edge[0], edge[1]\n",
    "            if self.node_to_leader[node_1] != self.node_to_leader[node_2]:\n",
    "                self.merge_nodes(node_1, node_2)\n",
    "        \n",
    "        while self.node_to_leader[node_1] == self.node_to_leader[node_2]:    \n",
    "            edge = self.edges.popleft()\n",
    "            node_1, node_2 = edge[0], edge[1]\n",
    "        self.min_dist = edge[2]\n",
    "\n",
    "if __name__ == \"__main__\":\n",
    "    c = Clust('text_3_2_clust.txt')\n",
    "    c.cluster()\n",
    "    print(c.min_dist)\n",
    "            \n"
   ]
  },
  {
   "cell_type": "code",
   "execution_count": 107,
   "metadata": {
    "code_folding": [
     0
    ]
   },
   "outputs": [
    {
     "name": "stdout",
     "output_type": "stream",
     "text": [
      "/Users/AM/Documents/_Courses/Algorithms/misc\n",
      "\n",
      "\n",
      "198788 200000 198788\n"
     ]
    }
   ],
   "source": [
    "# Programming assignment 3.2.2 clustering version 1\n",
    "class Clust:\n",
    "    \n",
    "    def __init__ (self, file_name):\n",
    "        %cd /Users/AM/Documents/_Courses/Algorithms/Misc\n",
    "        with open(file_name) as file:\n",
    "            lines = file.read().splitlines()\n",
    "        self.n_nodes, self.n_bits = [int(a) for a in lines[0].split()]\n",
    "        self.n_clust = self.n_nodes\n",
    "        self.node_to_leader = {} # {node as key: leader}\n",
    "        self.leader_to_nodes = {} # {leader as key: [nodes]}\n",
    "\n",
    "        for line in lines[1:]:\n",
    "            node_str = line.replace(' ', '')\n",
    "            node = int(node_str, 2)\n",
    "            \n",
    "            if node in self.leader_to_nodes.keys():\n",
    "                self.n_clust -= 1\n",
    "            else:    \n",
    "                self.leader_to_nodes[node] = [node]\n",
    "                self.node_to_leader[node] = node\n",
    "\n",
    "    def invert_bit(self, node, bit_number): \n",
    "        \"\"\"inverts #bit_number (starting from the right)\"\"\"\n",
    "        x = node ^ (1<<bit_number)\n",
    "        return(x)\n",
    "    \n",
    "    def find_dist_2(self, node): \n",
    "        \"\"\"# returns the list of all the numbers with Humming distance (bin) <=2\"\"\"\n",
    "        result = []\n",
    "        for i in range(self.n_bits):\n",
    "            node_one_inv = self.invert_bit(node, i)\n",
    "            for j in range(self.n_bits):\n",
    "                node_two_inv = self.invert_bit(node_one_inv, j)\n",
    "                if node_two_inv in self.node_to_leader.keys() and node_two_inv != node:    \n",
    "                    result.append(node_two_inv)\n",
    "        return(result)\n",
    "    \n",
    "    def merge(self, n1, n2):\n",
    "        leader_1 = self.node_to_leader[n1]\n",
    "        leader_2 = self.node_to_leader[n2]\n",
    "        if True: #len(self.leader_to_nodes[leader_1]) > len(self.leader_to_nodes[leader_2]):\n",
    "            leader_stay, leader_away = leader_1, leader_2\n",
    "        else: \n",
    "            leader_stay, leader_away = leader_2, leader_1\n",
    "        for node in self.leader_to_nodes[leader_away]: # no time to implement change of the leader for the smallest cluster\n",
    "            self.node_to_leader[node] = leader_stay\n",
    "        self.leader_to_nodes[leader_stay].extend(self.leader_to_nodes[leader_away])\n",
    "        self.n_clust -= 1\n",
    "        del self.leader_to_nodes[leader_away]\n",
    "    \n",
    "    def clustering(self):\n",
    "        for node in self.node_to_leader.keys():\n",
    "            print(f'n {self.n_clust:9} \\r', end = '')\n",
    "            next_nodes = self.find_dist_2(node)\n",
    "            leader = self.node_to_leader[node]\n",
    "            for candidate in next_nodes:\n",
    "                if self.node_to_leader[candidate] != leader:\n",
    "                    self.merge(node, candidate)            \n",
    "        \n",
    "if __name__ == \"__main__\":\n",
    "    c = Clust('text_3_2_2_clust.txt')\n",
    "    #c.clustering()\n",
    "    print('\\n')\n",
    "    print(c.n_clust, c.n_nodes, len(c.leader_to_nodes.keys()))\n",
    "                    \n",
    "            \n"
   ]
  },
  {
   "cell_type": "code",
   "execution_count": 135,
   "metadata": {
    "code_folding": []
   },
   "outputs": [
    {
     "name": "stdout",
     "output_type": "stream",
     "text": [
      "/Users/AM/Documents/_Courses/Algorithms/misc\n",
      "[1873, 12710, 37164, 40882, 57802, 61282, 64537, 70116, 83429, 90939]\n",
      "<class 'int'>\n",
      "1000\n",
      "1\n"
     ]
    }
   ],
   "source": [
    "# Programming assignment 3.3.1 huffman THINK AGAIN\n",
    "class Huffman:\n",
    "    \n",
    "    def __init__ (self, file_name):\n",
    "        %cd /Users/AM/Documents/_Courses/Algorithms/Misc\n",
    "        with open(file_name) as file:\n",
    "            lines = file.read().splitlines()\n",
    "        self.n_symbols = int(lines[0]) \n",
    "        self.weights = []\n",
    "        for i, line in enumerate(lines[1:]):\n",
    "            self.weights.append(int(line))\n",
    "        self.weights.sort()\n",
    "        self.Node = namedtuple('Node', ['next_left', 'next_right', 'depth', 'weight'])\n",
    "        self.nodes = [] \n",
    "\n",
    "    def test(self):\n",
    "        a = self.Node(3,2,1,0)\n",
    "        self.nodes.append(a)\n",
    "        \n",
    "    \n",
    "if __name__ == \"__main__\":\n",
    "    h = Huffman('text_3_3_1_huffman.txt')\n",
    "    print(h.weights[:10])\n",
    "    print(type(h.weights[9]))\n",
    "    print(h.n_symbols)\n",
    "    h.test()\n",
    "    print(h.nodes[1])"
   ]
  },
  {
   "cell_type": "code",
   "execution_count": null,
   "metadata": {
    "code_folding": [
     0
    ]
   },
   "outputs": [],
   "source": [
    "# Programming assignment 3.4.1 Knapsack #think again\n",
    "'''think again'''"
   ]
  }
 ],
 "metadata": {
  "kernelspec": {
   "display_name": "Python 3",
   "language": "python",
   "name": "python3"
  },
  "language_info": {
   "codemirror_mode": {
    "name": "ipython",
    "version": 3
   },
   "file_extension": ".py",
   "mimetype": "text/x-python",
   "name": "python",
   "nbconvert_exporter": "python",
   "pygments_lexer": "ipython3",
   "version": "3.8.5"
  },
  "varInspector": {
   "cols": {
    "lenName": 16,
    "lenType": 16,
    "lenVar": 40
   },
   "kernels_config": {
    "python": {
     "delete_cmd_postfix": "",
     "delete_cmd_prefix": "del ",
     "library": "var_list.py",
     "varRefreshCmd": "print(var_dic_list())"
    },
    "r": {
     "delete_cmd_postfix": ") ",
     "delete_cmd_prefix": "rm(",
     "library": "var_list.r",
     "varRefreshCmd": "cat(var_dic_list()) "
    }
   },
   "types_to_exclude": [
    "module",
    "function",
    "builtin_function_or_method",
    "instance",
    "_Feature"
   ],
   "window_display": false
  }
 },
 "nbformat": 4,
 "nbformat_minor": 4
}
