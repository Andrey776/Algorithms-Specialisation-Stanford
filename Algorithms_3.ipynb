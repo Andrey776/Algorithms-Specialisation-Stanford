{
 "cells": [
  {
   "cell_type": "code",
   "execution_count": 13,
   "metadata": {},
   "outputs": [],
   "source": [
    "import time\n",
    "from collections import namedtuple"
   ]
  },
  {
   "cell_type": "code",
   "execution_count": null,
   "metadata": {},
   "outputs": [],
   "source": []
  },
  {
   "cell_type": "code",
   "execution_count": 12,
   "metadata": {
    "code_folding": [
     0
    ]
   },
   "outputs": [
    {
     "name": "stdout",
     "output_type": "stream",
     "text": [
      "/Users/AM/Documents/_Courses/Algorithms/misc\n",
      "69119377652 510289\n"
     ]
    }
   ],
   "source": [
    "# Programming assignment 3.1.1&2 minimizing the weighted sum of completion times.\n",
    "\n",
    "def score1(w, l):\n",
    "    return w - l\n",
    "\n",
    "def score2(w, l):\n",
    "    return w/float(l)\n",
    "\n",
    "def sortJobs (jobList, scoreFunc):\n",
    "    scoreJobList = [(w,l, scoreFunc (w,l)) for w, l in jobList ]\n",
    "    scoreJobList.sort(key=lambda tup: tup[0], reverse=True)   # sort by weight first to resolve ties\n",
    "    scoreJobList.sort(key=lambda tup: tup[2], reverse=True)   # sort by score function\n",
    "    return scoreJobList;\n",
    "\n",
    "def loadData(fName):\n",
    "    with open(fName,'r') as fileObj:\n",
    "        lines = fileObj.readlines()\n",
    "        numJobs = int (lines[0].strip())\n",
    "        jobList = [ (int(line.split()[0]), int(line.split()[1])) for line in lines[1:]]\n",
    "    return jobList\n",
    "\n",
    "def sumCompletionTimes (sortedJobList):\n",
    "    weightedSum = 0\n",
    "    lengthSum = 0\n",
    "    \n",
    "    for job in sortedJobList:\n",
    "        lengthSum += job[1]\n",
    "        weightedSum += job[0] * lengthSum\n",
    "        \n",
    "    return weightedSum, lengthSum\n",
    "    \n",
    "def main(fName):\n",
    "    %cd /Users/AM/Documents/_Courses/Algorithms/Misc\n",
    "    jobList = loadData(fName);\n",
    "    scoreJobList = sortJobs(jobList, score1)    #change to score1 or score2\n",
    "    weightedSum, lengthSum = sumCompletionTimes (scoreJobList)\n",
    "    print(weightedSum, lengthSum)\n",
    "    \n",
    "if __name__ == '__main__':\n",
    "    main('text_3_1_jobs.txt')\n",
    "    \n",
    "#Score1: 69119377652 510289\n",
    "#Score2: 67311454237 510289"
   ]
  },
  {
   "cell_type": "code",
   "execution_count": 8,
   "metadata": {
    "code_folding": []
   },
   "outputs": [
    {
     "name": "stdout",
     "output_type": "stream",
     "text": [
      "/Users/AM/Documents/_Courses/Algorithms/misc\n",
      "Total cost: -3612829, time spent 0.14810800552368164\n"
     ]
    }
   ],
   "source": [
    "# Programming assignment 3.1.3 Prim's Minimum Spanning tree.\n",
    "\n",
    "\n",
    "def getGraph(fPath = \"text_3_1_edges.txt\"):\n",
    "    edgeList = []\n",
    "    %cd /Users/AM/Documents/_Courses/Algorithms/Misc\n",
    "    with open(fPath) as f:\n",
    "        lines = f.read().splitlines()\n",
    "        numNodes, numEdges = [int(el) for el in lines[0].split() ]\n",
    "        for line in lines[1:]:\n",
    "            node1, node2, edgeCost = [int(el) for el in line.split() ]\n",
    "            edgeList.append((node1, node2, edgeCost))\n",
    "            \n",
    "    return edgeList, numNodes, numEdges\n",
    "\n",
    "\n",
    "def prim(edgeList, numNodes):\n",
    "    \n",
    "    X = set()   # explored nodes\n",
    "    V = set(range(1, numNodes+1))   # unexplored nodes\n",
    "    E = set()   # set edges of MST\n",
    "    totalCost = 0   # total sum of edge cost of the MST\n",
    "    \n",
    "    start = 1\n",
    "    X.add(start)\n",
    "    V.remove(start)\n",
    "    \n",
    "    while V:\n",
    "        # look at all edges crossing the X and V sets\n",
    "        lowestCost = float('inf')\n",
    "        foundNodeX = None\n",
    "        foundNodeV = None\n",
    "        new_edge_in_X = None\n",
    "        \n",
    "        for edge in edgeList:\n",
    "            if edge[0] in X and edge[1] in V:\n",
    "                if edge[2] < lowestCost:\n",
    "                    foundNodeX = edge[0]\n",
    "                    foundNodeV = edge[1]\n",
    "                    lowestCost = edge[2]\n",
    "                    new_edge_in_X = edge\n",
    "                    \n",
    "            elif edge[1] in X and edge[0] in V:\n",
    "                if edge[2] < lowestCost:\n",
    "                    foundNodeX = edge[1]\n",
    "                    foundNodeV = edge[0]\n",
    "                    lowestCost = edge[2]\n",
    "                    new_edge_in_X = edge\n",
    "\n",
    "        \n",
    "        #print(\"FoundNodeX: {0}, FoundNodeV: {1}\".format(foundNodeX, foundNodeV))\n",
    "        edgeList.remove(new_edge_in_X)\n",
    "        X.add(foundNodeV)\n",
    "        V.remove(foundNodeV)\n",
    "        E.add((foundNodeX, foundNodeV, lowestCost))\n",
    "        totalCost += lowestCost\n",
    "        \n",
    "    return E, totalCost\n",
    "        \n",
    "if __name__ == '__main__':\n",
    "    edgeList, numNodes, numEdges = getGraph()\n",
    "    t0 = time.time()\n",
    "    E, totalCost = prim(edgeList, numNodes)\n",
    "    t1 = time.time()\n",
    "\n",
    "    print(f\"Total cost: {totalCost}, time spent {t1 - t0}\")"
   ]
  },
  {
   "cell_type": "code",
   "execution_count": 32,
   "metadata": {},
   "outputs": [
    {
     "name": "stdout",
     "output_type": "stream",
     "text": [
      "/Users/AM/Documents/_Courses/Algorithms/misc\n"
     ]
    }
   ],
   "source": [
    "# Programming assignment 3.2 clustering\n",
    "\n",
    "class Clust:\n",
    "    \n",
    "    def __init__ (self, file_name):\n",
    "        %cd /Users/AM/Documents/_Courses/Algorithms/Misc\n",
    "        with open(file_name) as file:\n",
    "            lines = file.read().splitlines()\n",
    "        self.n_nodes = int(lines[0])\n",
    "        self.nodes = {}\n",
    "        for line in lines[1:]:\n",
    "            node_1, node_2, cost = [int(a) for a in line.split()]\n",
    "            if node_1 in self.nodes.keys():\n",
    "                self.nodes[node_1].append((node_2, cost))\n",
    "            else:\n",
    "                self.nodes[node_1] = [(node_2, cost)]\n",
    "\n",
    "if __name__ == \"__main__\":\n",
    "    c = Clust('text_3_2_clust.txt')\n",
    "            \n",
    "            \n"
   ]
  },
  {
   "cell_type": "code",
   "execution_count": 48,
   "metadata": {},
   "outputs": [
    {
     "name": "stdout",
     "output_type": "stream",
     "text": [
      "[1, 2, 4]\n"
     ]
    },
    {
     "data": {
      "text/plain": [
       "list"
      ]
     },
     "execution_count": 48,
     "metadata": {},
     "output_type": "execute_result"
    }
   ],
   "source": [
    "\n",
    "s = '123'\n",
    "a, b, c = [int(i) for i in '124']\n",
    "print([int(i) for i in '124'])\n",
    "type([int(i) for i in '124'])"
   ]
  },
  {
   "cell_type": "code",
   "execution_count": 9,
   "metadata": {},
   "outputs": [
    {
     "data": {
      "text/plain": [
       "2184"
      ]
     },
     "execution_count": 9,
     "metadata": {},
     "output_type": "execute_result"
    }
   ],
   "source": [
    "numEdges"
   ]
  }
 ],
 "metadata": {
  "kernelspec": {
   "display_name": "Python 3",
   "language": "python",
   "name": "python3"
  },
  "language_info": {
   "codemirror_mode": {
    "name": "ipython",
    "version": 3
   },
   "file_extension": ".py",
   "mimetype": "text/x-python",
   "name": "python",
   "nbconvert_exporter": "python",
   "pygments_lexer": "ipython3",
   "version": "3.8.5"
  },
  "varInspector": {
   "cols": {
    "lenName": 16,
    "lenType": 16,
    "lenVar": 40
   },
   "kernels_config": {
    "python": {
     "delete_cmd_postfix": "",
     "delete_cmd_prefix": "del ",
     "library": "var_list.py",
     "varRefreshCmd": "print(var_dic_list())"
    },
    "r": {
     "delete_cmd_postfix": ") ",
     "delete_cmd_prefix": "rm(",
     "library": "var_list.r",
     "varRefreshCmd": "cat(var_dic_list()) "
    }
   },
   "types_to_exclude": [
    "module",
    "function",
    "builtin_function_or_method",
    "instance",
    "_Feature"
   ],
   "window_display": false
  }
 },
 "nbformat": 4,
 "nbformat_minor": 4
}
