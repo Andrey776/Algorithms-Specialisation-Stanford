{
 "cells": [
  {
   "cell_type": "code",
   "execution_count": 1,
   "metadata": {},
   "outputs": [],
   "source": [
    "import numpy as np\n",
    "import pandas as pd\n",
    "from numpy import random as rnd\n",
    "import math\n",
    "import copy\n",
    "import bisect\n",
    "from collections import Counter, deque, namedtuple, defaultdict\n",
    "import functools\n",
    "import random\n",
    "import operator\n",
    "import itertools\n"
   ]
  },
  {
   "cell_type": "code",
   "execution_count": 17,
   "metadata": {},
   "outputs": [
    {
     "name": "stdout",
     "output_type": "stream",
     "text": [
      "введите сумму в рублях345\n",
      "введите price grechki в рублях33\n",
      "введите price grechki в рублях22\n",
      "введите price icecr в рублях12\n",
      "введите price icecr в рублях12\n"
     ]
    }
   ],
   "source": [
    "N = float(input(\"введите сумму в рублях\"))\n",
    "G_R = float(input(\"введите price grechki в рублях\"))\n",
    "G_K = float(input(\"введите price grechki в рублях\"))\n",
    "G_P = G_R + G_K/100\n",
    "\n",
    "M_R = float(input(\"введите price icecr в рублях\"))\n",
    "M_K = float(input(\"введите price icecr в рублях\"))\n",
    "M_P = M_R + M_K/100\n",
    "\n",
    "        "
   ]
  },
  {
   "cell_type": "code",
   "execution_count": 14,
   "metadata": {},
   "outputs": [],
   "source": [
    "N = 73.72\n",
    "G_R = 36\n",
    "G_K = 36\n",
    "G_P = G_R + G_K/100\n",
    "\n",
    "M_R = 12\n",
    "M_K = 12\n",
    "M_P = M_R + M_K/100"
   ]
  },
  {
   "cell_type": "code",
   "execution_count": 18,
   "metadata": {},
   "outputs": [
    {
     "name": "stdout",
     "output_type": "stream",
     "text": [
      "10.0\n",
      "Yes\n"
     ]
    }
   ],
   "source": [
    "n_pak = N // G_P\n",
    "print(n_pak)\n",
    "if N % G_P > M_P:\n",
    "    print('Yes')\n",
    "else:\n",
    "    print('No')"
   ]
  },
  {
   "cell_type": "code",
   "execution_count": 61,
   "metadata": {},
   "outputs": [
    {
     "name": "stdout",
     "output_type": "stream",
     "text": [
      "n seq 6\n",
      "max_len 12\n"
     ]
    }
   ],
   "source": [
    "#m = []\n",
    "#nenuzhnaia_dlina = int(input(('vveditr dlinu'))\n",
    "#for i in range(nenuzhnaia_dlina):\n",
    "#    m.append(int(input('vvedi otsenku: ')))\n",
    "\n",
    "m = [2,5,4,5,3,4,5,2,2,3,4,5,2,2,2,4,5,5,4,4,4,4,4,3,4,4,2,5,5,5,5,5,5,5,5,5,5,5,5]\n",
    "flag_do_we_have_seq = False\n",
    "\n",
    "max_len_global = 0\n",
    "max_len_local = 0\n",
    "n_seq = 0\n",
    "\n",
    "set_good = {4,5}\n",
    "set_bad = {1,2,3}\n",
    "for i in m:\n",
    "    if i in set_good:\n",
    "        flag_do_we_have_seq = True\n",
    "        max_len_local += 1\n",
    "    elif i in set_bad:\n",
    "        if flag_do_we_have_seq: # end of good seq\n",
    "            max_len_global = max(max_len_global, max_len_local)\n",
    "            max_len_local = 0\n",
    "            n_seq += 1\n",
    "            flag_do_we_have_seq = False\n",
    "            #print(f'test i/n {i}, {n_seq}')\n",
    "        else: # still bad seq\n",
    "            pass\n",
    "    else:\n",
    "        print(f'ne byvaet takoi otsenki {i}')\n",
    "    \n",
    "if m[-1] in set_good:\n",
    "    n_seq += 1\n",
    "    max_len_global = max(max_len_global, max_len_local)\n",
    "\n",
    "    \n",
    "print(f'n seq {n_seq}')\n",
    "print(f'max_len {max_len_global}')\n"
   ]
  },
  {
   "cell_type": "code",
   "execution_count": 62,
   "metadata": {},
   "outputs": [
    {
     "data": {
      "text/plain": [
       "{2, 3, 4, 5}"
      ]
     },
     "execution_count": 62,
     "metadata": {},
     "output_type": "execute_result"
    }
   ],
   "source": [
    "m = [2,5,4,5,3,4,5,2,2,3,4,5,2,2,2,4,5,5,4,4,4,4,4,3,4,4,4,4,4,4,2,5,5,5,5,5,5,5,5,5,5,5,5]\n",
    "set(m)"
   ]
  },
  {
   "cell_type": "code",
   "execution_count": 40,
   "metadata": {},
   "outputs": [
    {
     "data": {
      "text/plain": [
       "Counter({'rtyu': 1, 'Iiiii,': 1, 'iiiii,': 1})"
      ]
     },
     "execution_count": 40,
     "metadata": {},
     "output_type": "execute_result"
    }
   ],
   "source": [
    "note  = 'qwe rtyu Iiiii, iiiii, qwe'\n",
    "b = [word for word in note.split()]\n",
    "c = Counter(b)\n",
    "del c['qwe']\n",
    "c"
   ]
  },
  {
   "cell_type": "code",
   "execution_count": 22,
   "metadata": {},
   "outputs": [
    {
     "name": "stdout",
     "output_type": "stream",
     "text": [
      "a == b ? False\n",
      "a == c ? True\n"
     ]
    }
   ],
   "source": [
    "class Testclass():\n",
    "    def __init__(self, n):\n",
    "        self.n = n\n",
    "    \n",
    "    def __eq__(self, other):\n",
    "        return(2 * self.n == other.n)\n",
    "    \n",
    "    def __repr__(self):\n",
    "        return(f'ЭТО вот что: {self.n}. И для отстающих повторяю - ВОТ ЧТО: {self.n}')\n",
    "    \n",
    "    def __hash__(self):\n",
    "        return(self.n**2 % 11)\n",
    "        \n",
    "if __name__ == '__main__':\n",
    "    a = Testclass(5)\n",
    "    b = Testclass(5)\n",
    "    c = Testclass(10)\n",
    "    \n",
    "    print(\"a == b ?\", a==b)\n",
    "    print(\"a == c ?\", a==c)\n"
   ]
  },
  {
   "cell_type": "code",
   "execution_count": 23,
   "metadata": {},
   "outputs": [
    {
     "name": "stdout",
     "output_type": "stream",
     "text": [
      "ЭТО вот что: 77. И для отстающих повторяю - ВОТ ЧТО: 77\n"
     ]
    },
    {
     "data": {
      "text/plain": [
       "3"
      ]
     },
     "execution_count": 23,
     "metadata": {},
     "output_type": "execute_result"
    }
   ],
   "source": [
    "d = Testclass(77)\n",
    "print(d)\n",
    "hash(b)\n",
    "\n",
    "s = "
   ]
  },
  {
   "cell_type": "code",
   "execution_count": 83,
   "metadata": {},
   "outputs": [
    {
     "data": {
      "text/plain": [
       "[1, 2, 4, 5, 8, 10, 16, 20, 25, 32, 40, 50, 80, 100, 160, 200, 400, 800]"
      ]
     },
     "execution_count": 83,
     "metadata": {},
     "output_type": "execute_result"
    }
   ],
   "source": [
    "results = []\n",
    "def pnc(n):\n",
    "    deliteli = []\n",
    "    for d in range(1,(n+1)):\n",
    "        if n % d == 0:\n",
    "            deliteli.append(d)\n",
    "            \n",
    "    return(deliteli)\n",
    "\n",
    "pnc(800)"
   ]
  },
  {
   "cell_type": "code",
   "execution_count": 103,
   "metadata": {},
   "outputs": [
    {
     "ename": "TypeError",
     "evalue": "cannot convert dictionary update sequence element #0 to a sequence",
     "output_type": "error",
     "traceback": [
      "\u001b[0;31m---------------------------------------------------------------------------\u001b[0m",
      "\u001b[0;31mTypeError\u001b[0m                                 Traceback (most recent call last)",
      "\u001b[0;32m<ipython-input-103-04c4363e218f>\u001b[0m in \u001b[0;36m<module>\u001b[0;34m\u001b[0m\n\u001b[0;32m----> 1\u001b[0;31m \u001b[0mdict\u001b[0m\u001b[0;34m(\u001b[0m\u001b[0mi\u001b[0m \u001b[0;32mfor\u001b[0m \u001b[0mi\u001b[0m \u001b[0;32min\u001b[0m \u001b[0mrange\u001b[0m\u001b[0;34m(\u001b[0m\u001b[0;36m4\u001b[0m\u001b[0;34m)\u001b[0m\u001b[0;34m)\u001b[0m\u001b[0;34m\u001b[0m\u001b[0;34m\u001b[0m\u001b[0m\n\u001b[0m\u001b[1;32m      2\u001b[0m \u001b[0;31m#np.product([1,2,3,4, 5])\u001b[0m\u001b[0;34m\u001b[0m\u001b[0;34m\u001b[0m\u001b[0;34m\u001b[0m\u001b[0m\n",
      "\u001b[0;31mTypeError\u001b[0m: cannot convert dictionary update sequence element #0 to a sequence"
     ]
    }
   ],
   "source": [
    "dict(i for i in range(4))\n",
    "#np.product([1,2,3,4, 5])"
   ]
  },
  {
   "cell_type": "code",
   "execution_count": null,
   "metadata": {
    "code_folding": [
     0
    ]
   },
   "outputs": [],
   "source": [
    "# find a chain of unique 2 digits numbers divisable by 7 or 13 (for Pasha)\n",
    "\n",
    "def find_next(digit, list_to_search): #fine tuned\n",
    "    result = []\n",
    "    for i in list_to_search:\n",
    "        x = digit * 10 + int(i)\n",
    "        if x % 13 == 0 or x % 7 == 0:\n",
    "            result.append(i)       \n",
    "            \n",
    "    return(result)\n",
    "             \n",
    "a_master = [i for i in range(1, 10)]\n",
    "\n",
    "for start in a_master:\n",
    "    a_copy = copy.copy(a_master)\n",
    "    path = []\n",
    "    graph = {}\n",
    "    a_copy.remove(start)\n",
    "    path.append(start)\n",
    "    \n",
    "    while a_copy and path:\n",
    "        if not path[-1] in graph.keys():\n",
    "            list_of_next_vert = find_next(path[-1], a_copy)\n",
    "            graph[path[-1]] = list_of_next_vert\n",
    "        #print(f'current path {path}, next verteces are {graph[path[-1]]}')\n",
    "        #print(f'graph.keys {graph.keys()},   still available {a_copy} \\n')\n",
    "        \n",
    "        if len(graph[path[-1]]) == 0: \n",
    "            wrong_step = path.pop()\n",
    "            a_copy.append(wrong_step)\n",
    "            del graph[wrong_step]\n",
    "            flag = False \n",
    "        else:\n",
    "            next_step = graph[path[-1]].pop()\n",
    "            path.append(next_step)\n",
    "            a_copy.remove(next_step)  \n",
    "            flag = True \n",
    "            \n",
    "    if not flag:\n",
    "        print(f'no results for path starting from {start}')\n",
    "    else:\n",
    "        break\n",
    "\n",
    "if flag:\n",
    "    print(f\"we found {path}\")\n",
    "else:\n",
    "    print(f\"we DID NOT found it\")\n",
    "\n",
    "    "
   ]
  },
  {
   "cell_type": "code",
   "execution_count": null,
   "metadata": {},
   "outputs": [],
   "source": [
    "from typing import Dict\n",
    "memo: Dict[int, int] = {0: 0, 1: 1} # our base cases\n",
    "def fib3(n: int) -> int: \n",
    "    if n not in memo:\n",
    "        memo[n] = fib3(n - 1) + fib3(n - 2) # memoization return memo[n]\n",
    "    return(memo[n])"
   ]
  },
  {
   "cell_type": "code",
   "execution_count": null,
   "metadata": {},
   "outputs": [],
   "source": [
    "from typing import Dict\n",
    "memo: Dict[int, int] = {0: 0, 1: 1} # our base cases\n",
    "def fib3(n: int) -> int: \n",
    "    if n not in memo:\n",
    "        memo[n] = fib3(n - 1) + fib3(n - 2) # memoization return memo[n]\n",
    "    return(memo[n])"
   ]
  },
  {
   "cell_type": "code",
   "execution_count": null,
   "metadata": {},
   "outputs": [],
   "source": [
    "math.prod([3141592653589793238462643383279502884197169399375105820974944592,2718281828459045235360287471352662497757247093699959574966967627])"
   ]
  },
  {
   "cell_type": "code",
   "execution_count": null,
   "metadata": {},
   "outputs": [],
   "source": [
    "a = '11111'\n",
    "b = len(a)//2\n",
    "#kar_prod(\"11223\",\"222222\")\n",
    "str(10*int(a[:b]))"
   ]
  },
  {
   "cell_type": "code",
   "execution_count": null,
   "metadata": {},
   "outputs": [],
   "source": [
    "def divide(x,y):\n",
    "    y_power, power, result = (y<<32), 32, 0\n",
    "    while x >= y:\n",
    "        while y_power > x:\n",
    "            y_power >>= 1\n",
    "            power -= 1\n",
    "        x -= y_power\n",
    "        result += (1<<power)\n",
    "    return result, x\n",
    "\n",
    "divide(21,4)"
   ]
  },
  {
   "cell_type": "code",
   "execution_count": null,
   "metadata": {},
   "outputs": [],
   "source": [
    "def power_book(x,y):\n",
    "    power, result = y, 1\n",
    "    while power:\n",
    "        if power & 1: \n",
    "            result = result * x\n",
    "        x = x * x\n",
    "        power >>= 1\n",
    "    return result\n",
    "\n",
    "power_book(3,4)     "
   ]
  },
  {
   "cell_type": "code",
   "execution_count": null,
   "metadata": {},
   "outputs": [],
   "source": [
    "a = 27\n",
    "b = -1\n",
    "c = a^b\n",
    "print(f'{a:05b}\\n{b:05b}\\n{c:05b} XOR\\n', a, -a-1)"
   ]
  },
  {
   "cell_type": "code",
   "execution_count": null,
   "metadata": {},
   "outputs": [],
   "source": [
    "import collections\n",
    "Rectangle = collections.namedtuple('Rectangle', ('x', 'y', 'width', 'height'))"
   ]
  },
  {
   "cell_type": "code",
   "execution_count": null,
   "metadata": {},
   "outputs": [],
   "source": [
    "import copy\n",
    "import bisect  \n",
    "a = {1:[1,2,3,5,6], 2:[4,5,6]}\n",
    "b = copy.deepcopy(a)\n",
    "print(bisect.insort_left(a[1], 1))\n",
    "\n",
    "print('a is', a, 'b is', b)"
   ]
  },
  {
   "cell_type": "code",
   "execution_count": null,
   "metadata": {
    "code_folding": [
     0
    ]
   },
   "outputs": [],
   "source": [
    "def multiply(num1, num2):\n",
    "    sign = -1 if (num1[0] < 0) ^ (num2[0] < 0) else 1 \n",
    "    num1[0] , num2[0] = abs(num1[0]) , abs(num2[0])\n",
    "    result = [0] * (len(num1) + len(num2)) \n",
    "    for i in reversed(range(len(num1))):\n",
    "        for j in reversed(range(len(num2))) :\n",
    "            result[i + j + 1] += num1[i] * num2[j] \n",
    "            result[i + j] += result[i + j + 1] // 10 \n",
    "            result[i+j+1] %= 10\n",
    "    # Renove the Teading zeroes,\n",
    "    print('result with leading zeros', result)\n",
    "    result = result[next((i for i, x in enumerate(result)\n",
    "                            if x != 0), len(result)):] or [0] \n",
    "    return [sign * result[0]] + result[1:]"
   ]
  },
  {
   "cell_type": "code",
   "execution_count": null,
   "metadata": {},
   "outputs": [],
   "source": [
    "print(multiply([1,2,3,4], [5,6,7,8]), 1234*5678)\n",
    "result = multiply([1,2,3,4], [5,6,7,8])\n",
    "result+=[0,0,0]\n",
    "result.reverse()\n",
    "result"
   ]
  },
  {
   "cell_type": "code",
   "execution_count": null,
   "metadata": {},
   "outputs": [],
   "source": [
    "a = next((i for i, x in enumerate(result) if x != 0), 1)\n",
    "#type(i for i, x in enumerate(result) if x != 0)\n",
    "#result[1,4:]\n",
    "print(a)"
   ]
  },
  {
   "cell_type": "code",
   "execution_count": null,
   "metadata": {},
   "outputs": [],
   "source": [
    "for a in ((i for i, x in enumerate(result) if x != 0)):\n",
    "    print(a)"
   ]
  },
  {
   "cell_type": "code",
   "execution_count": null,
   "metadata": {},
   "outputs": [],
   "source": [
    "result = [0]\n",
    "for a in range(10):\n",
    "    for b in range(10):\n",
    "        for c in range(10):\n",
    "            z = 100*a + 10*b + c - 100*c - 10*b - a\n",
    "            zz = z*z\n",
    "            if zz%1 == 0:\n",
    "                result.append(100*a+10*b+c)\n",
    "\n",
    "print(\"we found nothing\", result)"
   ]
  },
  {
   "cell_type": "code",
   "execution_count": null,
   "metadata": {},
   "outputs": [],
   "source": [
    "n = 101\n",
    "\n",
    "prost = False\n",
    "for x in range (2,n):\n",
    "    if n%x == 0: prost = True\n",
    "        \n",
    "print(n, prost)"
   ]
  },
  {
   "cell_type": "code",
   "execution_count": null,
   "metadata": {},
   "outputs": [],
   "source": [
    "a = 43.35 - 0.28\n",
    "x = 2\n",
    "print(f'asd {a:1.5f}')\n",
    "print(f'{x:2.4f} {x*x:3.5f} {x*x*x:4.6f}')\n",
    "a"
   ]
  },
  {
   "cell_type": "code",
   "execution_count": null,
   "metadata": {
    "code_folding": [
     0
    ]
   },
   "outputs": [],
   "source": [
    "# 5.5 remove duplicates from the sorted array\n",
    "a = [1,3,4,4,4,5,6,6,6,7,7,8,9]\n",
    "w_i = 1\n",
    "for i in range(1, len(a)):\n",
    "    if a[i] != a[w_i - 1]:\n",
    "        a[w_i] = a[i]\n",
    "        w_i += 1\n",
    "a[:w_i]"
   ]
  },
  {
   "cell_type": "code",
   "execution_count": null,
   "metadata": {
    "code_folding": [
     0
    ]
   },
   "outputs": [],
   "source": [
    "# 5.9 prime generator\n",
    "def list_of_primes(n):\n",
    "    is_prime = [False, False] + [True]*(n-1)\n",
    "    prime = []\n",
    "    for i in range(2, n+1):\n",
    "        if is_prime[i]:\n",
    "            prime.append(i)\n",
    "            for k in range(i , n + 1, i):\n",
    "                is_prime[k] = False\n",
    "    return(prime)\n",
    "\n",
    "list_of_primes(21)"
   ]
  },
  {
   "cell_type": "code",
   "execution_count": null,
   "metadata": {
    "code_folding": []
   },
   "outputs": [],
   "source": [
    "#5.16 Generate nonunifirm random number\n",
    "def nonunif_rnd(n, p):\n",
    "    p_acc = []\n",
    "    p_acc.append(p[0])\n",
    "    for i, x in enumerate(p[1:]): \n",
    "        p_acc.append(p_acc[i] + x)\n",
    "    i = bisect.bisect(p_acc, rnd.rand())\n",
    "    \n",
    "    return n[i]\n",
    "\n",
    "n = [1,2,3,4,5]\n",
    "p = [.025, .1, .125, .25, .50]\n",
    "N =10000\n",
    "\n",
    "a = [nonunif_rnd(n,p) for x in range(N)]\n",
    "a.sort()\n",
    "b = list(Counter(a).keys())\n",
    "c = list(Counter(a).values())\n",
    "[i/N  for i in c]"
   ]
  },
  {
   "cell_type": "code",
   "execution_count": null,
   "metadata": {
    "code_folding": [
     0
    ]
   },
   "outputs": [],
   "source": [
    "# 5.17 filter/map/ any function\n",
    "a = list(rnd.randint(1,100,10))\n",
    "b = list(filter(lambda x: x>50, a))\n",
    "c = list(map(lambda x: x*x, b))\n",
    "\n",
    "print(f'before filtering {a}\\nafter filtering {b} \\nafter b**2 map {c}')\n",
    "any(i>100 for i in a)\n"
   ]
  },
  {
   "cell_type": "code",
   "execution_count": null,
   "metadata": {
    "code_folding": [
     0
    ]
   },
   "outputs": [],
   "source": [
    "# 5.20 pascal triangle\n",
    "def pas_tri(n):\n",
    "    pt = [[1]*(i+1) for i in range(n)]\n",
    "    for i in range(n):\n",
    "        for j in range(1,i):\n",
    "            #print(f'i={i} j={j} pt[{i-1}][{j-1}]={pt[i-1][j-1]} pt[{i-1}][{j}]={pt[i-1][j]} \\n')\n",
    "            #print(f'i={i} j={j} pt[{i-1}][{j-1}] + pt[{i-1}][{j}] {pt[i-1][j-1] + pt[i-1][j]} \\n')\n",
    "            #pt[i][j] = pt[i-1][j-1] + pt[i-1][j]\n",
    "            pt[i][j] = pt[i-1][j-1] + pt[i-1][j]\n",
    "\n",
    "    return(pt)\n",
    "    \n",
    "print(pas_tri(5))"
   ]
  },
  {
   "cell_type": "code",
   "execution_count": null,
   "metadata": {
    "code_folding": [
     0
    ]
   },
   "outputs": [],
   "source": [
    "#6.1 int to string\n",
    "\n",
    "def int_to_string(x):\n",
    "    is_negat = False\n",
    "    if x < -0:\n",
    "        x, is_negat = -x, True\n",
    "    s = []\n",
    "    while True:\n",
    "        s.append(chr(ord('0') + x % 10))\n",
    "        x //= 10\n",
    "        if x == 0: break\n",
    "    return ('-'if is_negat else '') + ''.join(reversed(s))\n",
    "\n",
    "int_to_string(234)"
   ]
  },
  {
   "cell_type": "code",
   "execution_count": null,
   "metadata": {
    "code_folding": [
     0
    ]
   },
   "outputs": [],
   "source": [
    "#6.2 base conversion\n",
    "import string\n",
    "def conv(n_as_string, b1, b2):\n",
    "    def construct_from_base(n_as_int, base):\n",
    "        return ('' if n_as_int == 0 else \n",
    "                construct_from_base(n_as_int // base, base) + \n",
    "                string.hexdigits[n_as_int % base].upper())\n",
    "    n = 0\n",
    "    for i in n_as_string:\n",
    "        n = n * b1 + string.hexdigits.index(i)\n",
    "    \n",
    "    return ('0' if n == 0 else construct_from_base(n, b2))\n",
    "\n",
    "conv('1111', 2, 16)"
   ]
  },
  {
   "cell_type": "code",
   "execution_count": null,
   "metadata": {
    "code_folding": [
     0
    ]
   },
   "outputs": [],
   "source": [
    "# 6.3 spreadsheet column encoding\n",
    "\n",
    "def ss_decode(col):\n",
    "    return functools.reduce(\n",
    "        lambda result, c: result * 26 + ord(c) - ord('A') + 1, col, 0)\n",
    "    \n",
    "print(ss_decode(\"A\"))\n",
    "    "
   ]
  },
  {
   "cell_type": "code",
   "execution_count": null,
   "metadata": {
    "code_folding": [
     0
    ]
   },
   "outputs": [],
   "source": [
    "#7.1 linked lists. merge two sorted\n",
    "\n",
    "class ListNode:\n",
    "    def __init__(self, data=0, next_node = None):\n",
    "        self.data = data\n",
    "        self.next_node = next_node\n",
    "    \n",
    "class LinkedList:\n",
    "    def __init__(self):\n",
    "        self.headval = None\n",
    "    \n",
    "    def insert_after(self, node, new_node):\n",
    "        new_node.next = node.next\n",
    "        node.next = new_node\n",
    "\n",
    "    def delete(self, node):\n",
    "        node.next = node.next.next\n",
    "        \n",
    "    def print_LL(self):\n",
    "        a = self.headval\n",
    "        while a.next_node != None:\n",
    "            print(a.data)\n",
    "            a = a.next_node\n",
    "        print(a.data)\n",
    "\n",
    "\n",
    "LL = LinkedList()\n",
    "LL.headval = ListNode(\"Mon\")\n",
    "LN1 = ListNode(\"Tue\")\n",
    "LN2 = ListNode(\"Wed\")\n",
    "LN3 = ListNode(\"Thu\")\n",
    "a =3\n",
    "LL.headval.next_node = LN1\n",
    "LN1.next_node = copy.copy(LN2)\n",
    "LN2.next_node = LN3\n",
    "\n",
    "LN2.data = \"Wedddd\"\n",
    "\n",
    "a = LL.headval.next_node\n",
    "a.next_node.data"
   ]
  },
  {
   "cell_type": "code",
   "execution_count": null,
   "metadata": {
    "code_folding": [
     0
    ]
   },
   "outputs": [],
   "source": [
    "# 8.2 Reverse Polish Notation\n",
    "\n",
    "def evaluate_RPN(RPN_input):\n",
    "    interim_results = []\n",
    "    delimeter = ','\n",
    "    \n",
    "    operator = {\"+\": lambda y, x: x + y, \"-\": lambda y, x: x - y}\n",
    "    \n",
    "    for token in RPN_input.split(delimeter):\n",
    "        if token in operator.keys():\n",
    "            interim_results.append(operator[token](\n",
    "                interim_results.pop(), interim_results.pop()))\n",
    "        else:\n",
    "            interim_results.append(int(token))\n",
    "        print(interim_results)\n",
    "    return(interim_results[-1])\n",
    "\n",
    "evaluate_RPN('3,4,+,5,-, 4,+')\n",
    "        \n"
   ]
  },
  {
   "cell_type": "code",
   "execution_count": null,
   "metadata": {
    "code_folding": [
     0
    ]
   },
   "outputs": [],
   "source": [
    "# 8.3 well-formedness check\n",
    "\n",
    "def check_string(input_string):\n",
    "    stack = []\n",
    "    dict_open = {'{': 1, '[': 2, '(': 3}\n",
    "    dict_close = {'}': -1, ']': -2, ')': -3}\n",
    "    \n",
    "    for token in input_string:\n",
    "        if token in dict_open.keys():\n",
    "            stack.append(dict_open[token])\n",
    "            flag = True\n",
    "        elif dict_close[token] + stack.pop() != 0: \n",
    "                flag = False\n",
    "                break\n",
    "    \n",
    "    return(flag)\n",
    "\n",
    "check_string('(({{[]}}(){}))')\n"
   ]
  },
  {
   "cell_type": "code",
   "execution_count": null,
   "metadata": {
    "code_folding": [
     0
    ]
   },
   "outputs": [],
   "source": [
    "# 8.5 sunset view building\n",
    "\n",
    "def sunset_check(heights): # heights from east to west\n",
    "    sunset_stack = [0]\n",
    "    for b in heights:\n",
    "        while sunset_stack and b >= sunset_stack[-1]:\n",
    "            sunset_stack.pop()\n",
    "        sunset_stack.append(b)\n",
    "    return(sunset_stack)\n",
    "\n",
    "sunset_check([20,15,16, 14,12,9,11])\n",
    "        "
   ]
  },
  {
   "cell_type": "code",
   "execution_count": null,
   "metadata": {
    "code_folding": [
     0
    ]
   },
   "outputs": [],
   "source": [
    "# 8.9 queue with max API\n",
    "\n",
    "class QueueeWithMax:\n",
    "    def __init__(self): \n",
    "        self.data = deque()\n",
    "        self.cand_for_max = deque()\n",
    "    \n",
    "    def enq(self, x) -> None:\n",
    "        self.data.append(x)\n",
    "        while self.cand_for_max and self.cand_for_max[-1] < x:\n",
    "            self.cand_for_max.pop()\n",
    "        self.cand_for_max.append(x)\n",
    "        \n",
    "    def deq(self):\n",
    "        if self.data:\n",
    "            if self.data[0] == self.cand_for_max[0]:\n",
    "                self.cand_for_max.popleft()\n",
    "            return self.data.popleft()\n",
    "        raise IndexError(\"empty queue\")\n",
    "    \n",
    "    def max(self):\n",
    "        return self.cand_for_max[0]\n",
    "        \n",
    "        \n",
    "if __name__ == \"__main__\":\n",
    "    a = QueueeWithMax()\n",
    "    for _ in range(11): a.enq(rnd.randint(1,100))   \n",
    "    print(f'{a.data} \\n{a.cand_for_max}, max is {a.cand_for_max[0]}')\n",
    "    for _ in range(3): a.deq()\n",
    "    print(f'after 3 deq \\n{a.data} \\n{a.cand_for_max}, max is {a.cand_for_max[0]}')\n",
    "\n",
    "\n"
   ]
  },
  {
   "cell_type": "code",
   "execution_count": 74,
   "metadata": {
    "code_folding": [
     0
    ]
   },
   "outputs": [],
   "source": [
    "#9.3is a binary tree simmetric?\n",
    "class Node:\n",
    "        def __init__ (self, data, left = None, right = None):\n",
    "            self.data = data\n",
    "            self.left = left\n",
    "            self.right = right\n",
    "            \n",
    "        def add_node (self, direction, data, left = None, right = None): #direction 0 - left, 1 - right\n",
    "            if not direction:\n",
    "                self.left = Node(data, left, right)\n",
    "            else:\n",
    "                self.right = Node(data, left, right)\n",
    "                \n",
    "class Bin_Tree:\n",
    "        \n",
    "    def __init__(self, data, left, right):\n",
    "        self.root = Node(data, left, right)\n",
    "    \n",
    "    \n",
    "    def is_symmetric(self):\n",
    "        \n",
    "        def check_symmetric(node_left, node_right):\n",
    "            if not node_left and not node_right:\n",
    "                return(True)\n",
    "            elif node_left and node_right:\n",
    "                result = node_left.data == node_right.data and\\\n",
    "                check_symmetric(node_left.left, node_right.right) and\\\n",
    "                check_symmetric(node_left.right, node_right.left)\n",
    "            \n",
    "                return(result)\n",
    "            return(False)\n",
    "        \n",
    "        return check_symmetric(self.root.left, self.root.right)\n",
    "  \n",
    "        \n",
    "if __name__ == \"__main__\":\n",
    "    b = Bin_Tree(11, None, None)\n",
    "    #print(b.is_symmetric())"
   ]
  },
  {
   "cell_type": "code",
   "execution_count": 114,
   "metadata": {
    "code_folding": []
   },
   "outputs": [
    {
     "name": "stdout",
     "output_type": "stream",
     "text": [
      "0b11010111101111101\n",
      "1 1\n",
      "1 1\n"
     ]
    }
   ],
   "source": [
    "#9.5 BINARY sum of paths?\n",
    "\n",
    "class Node:\n",
    "        def __init__ (self, data, left = None, right = None):\n",
    "            self.data = data\n",
    "            self.left = left\n",
    "            self.right = right\n",
    "            \n",
    "        def add_node (self, direction, data, left = None, right = None): \n",
    "            '''#direction 0 - left, 1 - right'''\n",
    "            if not direction:\n",
    "                self.left = Node(data, left, right)\n",
    "            else:\n",
    "                self.right = Node(data, left, right)\n",
    "                \n",
    "class Bin_Tree:\n",
    "        \n",
    "    def __init__(self, data, left, right):\n",
    "        self.root = Node(data, left, right)\n",
    "        self.h = 1\n",
    "    \n",
    "    def generate_tree(self, h):\n",
    "        '''generates a balanced binary tree with depth h'''\n",
    "        \n",
    "        def add_two_nodes(node, h_current):\n",
    "            node.add_node(0, rnd.binomial(1, 0.5))\n",
    "            node.add_node(1, rnd.binomial(1, 0.5))\n",
    "            if h_current + 1 == h:\n",
    "                return\n",
    "            else:\n",
    "                h_current += 1\n",
    "                add_two_nodes(node.left, h_current)\n",
    "                add_two_nodes(node.right, h_current)\n",
    " \n",
    "        add_two_nodes(self.root, self.h)\n",
    "        self.h = h  \n",
    "    \n",
    "    def sum_root_to_leafs(self):\n",
    "        '''calculate the sum of all the paths from root to leafs'''\n",
    "        \n",
    "        def find_node_sum(node, s_parent):\n",
    "            '''calculate sum of two paths (from the root to node.left and to node.right)\n",
    "            for the path from the root to the node sum is equal to s_parent'''\n",
    "            \n",
    "            if not node.left and not node.right:\n",
    "                return s_parent\n",
    "            elif not node.right: \n",
    "                return find_node_sum(node.left, s_parent * 2 + node.left.data)\n",
    "            elif not node.left:\n",
    "                return find_node_sum(node.right, s_parent * 2 + node.right.data)\n",
    "            else:\n",
    "                return find_node_sum(node.left, s_parent * 2 + node.left.data) +\\\n",
    "                        find_node_sum(node.right, s_parent * 2 + node.right.data)\n",
    "        \n",
    "        return(find_node_sum(self.root, self.root.data))\n",
    "\n",
    "            \n",
    "        \n",
    "if __name__ == \"__main__\":\n",
    "    a = Bin_Tree(1, None, None)\n",
    "    a.generate_tree(9)\n",
    "    print(bin(a.sum_root_to_leafs()))\n",
    "    print(a.root.data, a.root.left.data)\n",
    "    print(a.root.data, a.root.right.data)\n",
    "    #print(b.is_symmetric())"
   ]
  },
  {
   "cell_type": "code",
   "execution_count": 26,
   "metadata": {},
   "outputs": [
    {
     "name": "stdout",
     "output_type": "stream",
     "text": [
      "0\n"
     ]
    }
   ],
   "source": [
    "a.root.add_node(0, 1)\n",
    "a.root.add_node(1, 0)\n",
    "t = a.root.left\n",
    "t.add_node(0, 1)\n",
    "t.add_node(1, 0)\n",
    "t = a.root.right\n",
    "t.add_node(0, 1)\n",
    "t.add_node(1, 0)\n",
    "\n",
    "#print(t.left)\n",
    "print(a.root.left.right.data)\n"
   ]
  },
  {
   "cell_type": "code",
   "execution_count": 241,
   "metadata": {
    "code_folding": [
     0
    ]
   },
   "outputs": [
    {
     "name": "stdout",
     "output_type": "stream",
     "text": [
      "[1, 88, 6, 0, 21, 95, 34]\n",
      "1 88 0\n",
      "1 6 34\n"
     ]
    }
   ],
   "source": [
    "#9.6 does this sum exist? # 9.7 preorder_traversal\n",
    "\n",
    "class Node:\n",
    "        def __init__ (self, data, left = None, right = None):\n",
    "            self.data = data\n",
    "            self.left = left\n",
    "            self.right = right\n",
    "            \n",
    "        def add_node (self, direction, data, left = None, right = None): \n",
    "            '''#direction 0 - left, 1 - right'''\n",
    "            if not direction:\n",
    "                self.left = Node(data, left, right)\n",
    "            else:\n",
    "                self.right = Node(data, left, right)\n",
    "                \n",
    "class Bin_Tree:\n",
    "        \n",
    "    def __init__(self, data, left, right):\n",
    "        self.root = Node(data, left, right)\n",
    "        self.h = 1\n",
    "    \n",
    "    def generate_tree(self, h):\n",
    "        '''generates a balanced binary tree with depth h'''\n",
    "        \n",
    "        def add_two_nodes(node, h_current):\n",
    "            node.add_node(0, round(random.uniform(0,100)))\n",
    "            node.add_node(1, round(random.uniform(0,100)))\n",
    "            if h_current + 1 == h:\n",
    "                return\n",
    "            else:\n",
    "                h_current += 1\n",
    "                add_two_nodes(node.left, h_current)\n",
    "                add_two_nodes(node.right, h_current)\n",
    " \n",
    "        add_two_nodes(self.root, self.h)\n",
    "        self.h = h  \n",
    "    \n",
    "    def sum_exist(self, s):\n",
    "        '''return True if there is a root-leaf path with sum of .data == s'''\n",
    "        \n",
    "        def level_down(node, s_parent):\n",
    "            '''propagete (s_parent - s.data) to two left_down calls (for left and for right)'''\n",
    "            if not node:\n",
    "                return(False)\n",
    "            \n",
    "            s_children = s_parent - node.data\n",
    "            if node.left or node.right:\n",
    "                return(level_down(node.left, s_children) or level_down(node.right, s_children))\n",
    "            else:\n",
    "                return(node.data == s_parent)\n",
    "        \n",
    "        res = level_down(self.root, s)\n",
    "        return(res)\n",
    "\n",
    "    def preorder_traversal(self, root_node):\n",
    "        path, results = deque([root_node]), []\n",
    "        while path:\n",
    "            node = path.popleft()\n",
    "            if node: \n",
    "                results.append(node.data)\n",
    "                path.append(node.left)\n",
    "                path.append(node.right)\n",
    "        print(results)    \n",
    "        \n",
    "if __name__ == \"__main__\":\n",
    "    a = Bin_Tree(1, None, None)\n",
    "    a.generate_tree(3)\n",
    "    a.preorder_traversal(a.root)\n",
    "    \n",
    "    print(a.root.data, a.root.left.data, a.root.left.left.data)\n",
    "    print(a.root.data, a.root.right.data, a.root.right.right.data)\n",
    "    print(a.sum_exist(49))\n",
    "\n",
    "\n",
    "    #print(b.is_symmetric())"
   ]
  },
  {
   "cell_type": "code",
   "execution_count": 25,
   "metadata": {},
   "outputs": [
    {
     "name": "stdout",
     "output_type": "stream",
     "text": [
      "6\n",
      "7\n"
     ]
    }
   ],
   "source": [
    "#11.10 Finf the missing\n",
    "\n",
    "class Missing:\n",
    "    def __init__(self, N):\n",
    "        self.N = N\n",
    "        self.numbers = np.arange(N, dtype=int)\n",
    "        mask = np.ones(N, dtype=bool)\n",
    "        self.missing = round(np.random.uniform(N))\n",
    "        mask[self.missing] = False\n",
    "        self.numbers = self.numbers[mask]\n",
    "    \n",
    "    def find_missing(self):\n",
    "        #xor = functools.reduce(lambda x,y: x^y, range(0,self.N-1))\n",
    "        xor = functools.reduce(lambda x,y: x^y, self.numbers)\n",
    "        #for i in range(1, len(self.numbers)-1):\n",
    "        #    xor ^= self.numbers[i]\n",
    "        return(xor)\n",
    "        \n",
    "if __name__ == \"__main__\":\n",
    "    a = Missing(10**1)\n",
    "    print(a.missing)\n",
    "\n",
    "    print(a.find_missing())"
   ]
  },
  {
   "cell_type": "code",
   "execution_count": 31,
   "metadata": {},
   "outputs": [
    {
     "data": {
      "text/plain": [
       "[['a', 'b', 'c'],\n",
       " ['a', 'c', 'b'],\n",
       " ['b', 'a', 'c'],\n",
       " ['b', 'c', 'a'],\n",
       " ['c', 'a', 'b'],\n",
       " ['c', 'b', 'a']]"
      ]
     },
     "execution_count": 31,
     "metadata": {},
     "output_type": "execute_result"
    }
   ],
   "source": [
    "#15.3 permutations\n",
    "\n",
    "def permutations(A): # returns the list of all possible permutation (each permutation is a list) \n",
    "    if len(A) == 1: return(A)\n",
    "    result = []\n",
    "    for i in A:\n",
    "        A_reduced = A.copy()\n",
    "        A_reduced.remove(i)\n",
    "        new_permutations_short = permutations(A_reduced)     \n",
    "        new_permutations_long = [[i]+ p if type(p)==list else [i,p] for p in new_permutations_short]\n",
    "        result.extend(new_permutations_long)\n",
    "    \n",
    "    return(result)\n",
    "\n",
    "b = [\"a\",\"b\",\"c\"]\n",
    "permutations(b)\n"
   ]
  },
  {
   "cell_type": "code",
   "execution_count": 26,
   "metadata": {},
   "outputs": [
    {
     "data": {
      "text/plain": [
       "[[3, 4], [5, 6], [7, 8]]"
      ]
     },
     "execution_count": 26,
     "metadata": {},
     "output_type": "execute_result"
    }
   ],
   "source": [
    "aa = []\n",
    "a = [[3,4],[5,6],[7,8]]\n",
    "aa = [i for i in a]\n",
    "aa "
   ]
  },
  {
   "cell_type": "code",
   "execution_count": 66,
   "metadata": {},
   "outputs": [
    {
     "data": {
      "text/plain": [
       "7.0"
      ]
     },
     "execution_count": 66,
     "metadata": {},
     "output_type": "execute_result"
    }
   ],
   "source": [
    "a = np.arange(10)\n",
    "mask = np.ones(len(a), dtype=bool)\n",
    "i = np.floor(np.random.uniform(10))\n",
    "i"
   ]
  },
  {
   "cell_type": "code",
   "execution_count": 87,
   "metadata": {},
   "outputs": [
    {
     "ename": "SyntaxError",
     "evalue": "unexpected EOF while parsing (<ipython-input-87-20d82b8f7e17>, line 12)",
     "output_type": "error",
     "traceback": [
      "\u001b[0;36m  File \u001b[0;32m\"<ipython-input-87-20d82b8f7e17>\"\u001b[0;36m, line \u001b[0;32m12\u001b[0m\n\u001b[0;31m    print(sorted([1, 2, 4, 2])\u001b[0m\n\u001b[0m                              ^\u001b[0m\n\u001b[0;31mSyntaxError\u001b[0m\u001b[0;31m:\u001b[0m unexpected EOF while parsing\n"
     ]
    }
   ],
   "source": [
    "import functools \n",
    "\n",
    "def mycmp(a, b): \n",
    "    print(\"comparing \", a, \" and \", b) \n",
    "    if a > b: \n",
    "        return 1\n",
    "    elif a < b:\n",
    "        return(-1)\n",
    "    else: \n",
    "        return(0)\n",
    "    \n",
    "print(sorted([1, 2, 4, 2])"
   ]
  },
  {
   "cell_type": "code",
   "execution_count": 99,
   "metadata": {},
   "outputs": [
    {
     "name": "stdout",
     "output_type": "stream",
     "text": [
      "[1, 4, 7]\n",
      "comparing  7  and  1\n",
      "comparing  4  and  7\n",
      "comparing  4  and  1\n",
      "comparing  4  and  7\n",
      "[7, 4, 1]\n"
     ]
    }
   ],
   "source": [
    "import functools \n",
    "\n",
    "def mycmp(a, b): \n",
    "    print(\"comparing \", a, \" and \", b) \n",
    "    if a > b: \n",
    "        return(-1)\n",
    "    elif a < b:\n",
    "        return(1)\n",
    "    else: \n",
    "        return(0)\n",
    "    \n",
    "print(sorted([1, 7, 4]))\n",
    "print(sorted([1, 7, 4], key=functools.cmp_to_key(mycmp))) "
   ]
  },
  {
   "cell_type": "code",
   "execution_count": 100,
   "metadata": {},
   "outputs": [
    {
     "name": "stdout",
     "output_type": "stream",
     "text": [
      "called\n",
      "True\n"
     ]
    }
   ],
   "source": [
    "class Foo:\n",
    "    def __call__(self):\n",
    "        print('called')\n",
    "\n",
    "foo_instance = Foo()\n",
    "foo_instance() #this is calling the __call__ method\n",
    "print(callable(foo_instance)) \n"
   ]
  },
  {
   "cell_type": "code",
   "execution_count": 65,
   "metadata": {},
   "outputs": [
    {
     "data": {
      "text/plain": [
       "dict_keys(['yellow', 'blue', 'red'])"
      ]
     },
     "execution_count": 65,
     "metadata": {},
     "output_type": "execute_result"
    }
   ],
   "source": [
    "#from collections import defaultdic\n",
    "s = [('yellow', 1), ('blue', 2), ('yellow', 3), ('blue', 4), ('red', 1)]\n",
    "d = defaultdict(list)\n",
    "for k, v in s:\n",
    "    d[k].append(v)\n",
    "    \n",
    "sorted(d.items())\n",
    "d.keys()"
   ]
  },
  {
   "cell_type": "code",
   "execution_count": null,
   "metadata": {},
   "outputs": [],
   "source": []
  },
  {
   "cell_type": "code",
   "execution_count": null,
   "metadata": {
    "code_folding": []
   },
   "outputs": [],
   "source": [
    "#import string\n",
    "def crs(n):    \n",
    "    return functools.reduce(\n",
    "        lambda x,y: x + str(y), range(n), '')\n",
    "#string.hexdigits.index('f')\n",
    "#a.find(b' ',0)\n",
    "a = crs(10)\n",
    "a[3::2]"
   ]
  },
  {
   "cell_type": "code",
   "execution_count": null,
   "metadata": {},
   "outputs": [],
   "source": [
    "graph = {}\n",
    "graph[1] = [1,2,3]\n",
    "graph[11] = [11,22,33]\n",
    "graph[1].pop()\n",
    "graph[1].pop()\n",
    "graph[1].pop()\n",
    "\n",
    "print(graph)\n",
    "\n",
    "if graph[1]:\n",
    "    print(True)\n",
    "else:\n",
    "    print(False)\n",
    "\n",
    "1 in graph.keys()"
   ]
  },
  {
   "cell_type": "code",
   "execution_count": 107,
   "metadata": {},
   "outputs": [
    {
     "name": "stdout",
     "output_type": "stream",
     "text": [
      "CAT(name='Cat1', color='black', age=12) CAT(name='Cat2', color='white', age=1)\n"
     ]
    }
   ],
   "source": [
    "Cat = namedtuple(\"CAT\", \"name, color, age\")\n",
    "a = Cat(\"Cat1\", \"black\", 12)\n",
    "b = Cat(\"Cat2\", \"white\", 1)\n",
    "print(a,b)"
   ]
  },
  {
   "cell_type": "code",
   "execution_count": 2,
   "metadata": {},
   "outputs": [
    {
     "name": "stdout",
     "output_type": "stream",
     "text": [
      "a[~0] 4; a[0] 1\n",
      "a[~1] 3; a[1] 2\n",
      "a[~2] 2; a[2] 3\n",
      "a[~3] 1; a[3] 4\n"
     ]
    },
    {
     "data": {
      "text/plain": [
       "99"
      ]
     },
     "execution_count": 2,
     "metadata": {},
     "output_type": "execute_result"
    }
   ],
   "source": [
    "a = [1,2,3,4]\n",
    "for i in range(4):\n",
    "    print(f'a[~{i}] {a[~i]}; a[{i}] {a[i]}')\n",
    "\n",
    "ord('c')"
   ]
  },
  {
   "cell_type": "code",
   "execution_count": null,
   "metadata": {},
   "outputs": [],
   "source": []
  },
  {
   "cell_type": "code",
   "execution_count": 115,
   "metadata": {
    "code_folding": []
   },
   "outputs": [
    {
     "name": "stdout",
     "output_type": "stream",
     "text": [
      "we found 14 clusters\n",
      "the matrix we generated \n",
      "[[1. 0. 0. 1. 0. 1. 1. 0. 0. 1. 0. 0. 0. 1. 1. 0. 0.]\n",
      " [1. 0. 1. 0. 1. 1. 0. 0. 1. 0. 0. 1. 1. 0. 0. 1. 0.]\n",
      " [0. 0. 0. 0. 0. 0. 0. 0. 0. 0. 1. 0. 0. 0. 0. 0. 1.]\n",
      " [0. 0. 0. 0. 0. 0. 0. 0. 0. 0. 0. 0. 1. 1. 0. 0. 1.]\n",
      " [1. 1. 1. 1. 0. 0. 0. 1. 1. 1. 1. 1. 1. 0. 0. 0. 0.]\n",
      " [1. 1. 0. 0. 1. 1. 1. 1. 0. 1. 0. 0. 0. 0. 1. 0. 1.]\n",
      " [1. 1. 0. 0. 1. 0. 0. 1. 1. 1. 0. 1. 1. 0. 1. 0. 0.]\n",
      " [0. 0. 0. 1. 1. 0. 0. 0. 0. 0. 0. 0. 1. 1. 1. 0. 0.]\n",
      " [1. 0. 1. 1. 1. 1. 0. 0. 1. 0. 0. 1. 1. 0. 1. 0. 0.]\n",
      " [0. 1. 0. 0. 1. 1. 1. 0. 1. 0. 0. 0. 0. 1. 0. 0. 0.]\n",
      " [0. 0. 0. 0. 1. 0. 0. 0. 0. 0. 0. 0. 0. 0. 0. 1. 1.]\n",
      " [0. 0. 0. 0. 1. 0. 0. 0. 1. 0. 1. 0. 0. 1. 1. 1. 0.]\n",
      " [0. 0. 0. 1. 0. 1. 0. 1. 1. 0. 1. 0. 1. 1. 1. 0. 0.]\n",
      " [0. 0. 0. 0. 0. 1. 0. 1. 1. 0. 0. 0. 0. 0. 0. 1. 0.]\n",
      " [0. 0. 1. 0. 0. 1. 1. 0. 0. 1. 0. 1. 0. 0. 0. 0. 0.]\n",
      " [0. 0. 0. 0. 0. 1. 0. 1. 1. 1. 0. 1. 0. 0. 1. 0. 0.]\n",
      " [0. 0. 1. 1. 0. 0. 0. 0. 0. 0. 1. 1. 0. 0. 0. 0. 1.]] \n",
      "\n",
      "cluster numbers assigned \n",
      "[[ 1.  0.  0.  2.  0.  2.  2.  0.  0.  3.  0.  0.  0.  4.  4.  0.  0.]\n",
      " [ 1.  0.  2.  0.  2.  2.  0.  0.  3.  0.  0.  4.  4.  0.  0.  4.  0.]\n",
      " [ 0.  0.  0.  0.  0.  0.  0.  0.  0.  0.  4.  0.  0.  0.  0.  0.  4.]\n",
      " [ 0.  0.  0.  0.  0.  0.  0.  0.  0.  0.  0.  0.  5.  5.  0.  0.  4.]\n",
      " [ 5.  5.  5.  5.  0.  0.  0.  5.  5.  5.  5.  5.  5.  0.  0.  0.  0.]\n",
      " [ 5.  5.  0.  0.  5.  5.  5.  5.  0.  5.  0.  0.  0.  0.  6.  0.  7.]\n",
      " [ 5.  5.  0.  0.  5.  0.  0.  5.  5.  5.  0.  6.  6.  0.  6.  0.  0.]\n",
      " [ 0.  0.  0.  5.  5.  0.  0.  0.  0.  0.  0.  0.  6.  6.  6.  0.  0.]\n",
      " [ 5.  0.  5.  5.  5.  5.  0.  0.  8.  0.  0.  6.  6.  0.  6.  0.  0.]\n",
      " [ 0.  5.  0.  0.  5.  5.  5.  0.  8.  0.  0.  0.  0.  6.  0.  0.  0.]\n",
      " [ 0.  0.  0.  0.  5.  0.  0.  0.  0.  0.  0.  0.  0.  0.  0.  9.  9.]\n",
      " [ 0.  0.  0.  0.  5.  0.  0.  0.  5.  0. 10.  0.  0.  9.  9.  9.  0.]\n",
      " [ 0.  0.  0.  5.  0.  5.  0.  5.  5.  0. 10.  0.  9.  9.  9.  0.  0.]\n",
      " [ 0.  0.  0.  0.  0.  5.  0.  5.  5.  0.  0.  0.  0.  0.  0.  9.  0.]\n",
      " [ 0.  0. 11.  0.  0.  5.  5.  0.  0.  5.  0.  5.  0.  0.  0.  0.  0.]\n",
      " [ 0.  0.  0.  0.  0.  5.  0.  5.  5.  5.  0.  5.  0.  0. 12.  0.  0.]\n",
      " [ 0.  0. 13. 13.  0.  0.  0.  0.  0.  0.  5.  5.  0.  0.  0.  0. 14.]]\n"
     ]
    }
   ],
   "source": [
    "# Nick's inverview problem\n",
    "class rectangle:\n",
    "    \n",
    "    def __init__(self,  col=7, row=7): \n",
    "        self.col = col\n",
    "        self.row = row\n",
    "        self.r = np.zeros((col, row))\n",
    "        self.cluster_id = np.zeros((col, row)) # cluster_id = 0 for zeros or unexplored cells\n",
    "        self.max_cluster_id = 0 \n",
    "\n",
    "    def generate(self, p = 0.25): # p is probability of 1\n",
    "        for i in range(self.col):\n",
    "            for j in range(self.row):\n",
    "                self.r[i,j] = rnd.binomial(n = 1, p = p)\n",
    "\n",
    "    \n",
    "    def mark_nearby(self, i, j):  \n",
    "        for ii in range(-1, 2):\n",
    "            for jj in range(-1,2):\n",
    "                if i+ii in range (self.row) and j+jj in range(self.col):\n",
    "                    if self.r[i+ii,j+jj] == 1 and self.cluster_id[i+ii, j+jj] == 0:\n",
    "                        self.cluster_id[i+ii,j+jj] = self.max_cluster_id\n",
    "                        self.mark_nearby(i+ii,j+jj)\n",
    "        \n",
    "    def count_islands(self):\n",
    "        for i in range(self.row):\n",
    "            for j in range(self.col):\n",
    "                if self.r[i,j] == 1 and self.cluster_id[i, j]  == 0:\n",
    "                    self.max_cluster_id += 1\n",
    "                    self.mark_nearby(i,j)\n",
    "\n",
    "if __name__ == '__main__':\n",
    "    r = rectangle(17,17)\n",
    "    r.generate(p = 0.35)\n",
    "    r.count_islands()\n",
    "    print(f'we found {r.max_cluster_id} clusters')\n",
    "    print(f'the matrix we generated \\n{r.r} \\n') \n",
    "    print(f'cluster numbers assigned \\n{r.cluster_id}')\n",
    "    "
   ]
  }
 ],
 "metadata": {
  "kernelspec": {
   "display_name": "Python 3",
   "language": "python",
   "name": "python3"
  },
  "language_info": {
   "codemirror_mode": {
    "name": "ipython",
    "version": 3
   },
   "file_extension": ".py",
   "mimetype": "text/x-python",
   "name": "python",
   "nbconvert_exporter": "python",
   "pygments_lexer": "ipython3",
   "version": "3.8.5"
  },
  "varInspector": {
   "cols": {
    "lenName": 16,
    "lenType": 16,
    "lenVar": 40
   },
   "kernels_config": {
    "python": {
     "delete_cmd_postfix": "",
     "delete_cmd_prefix": "del ",
     "library": "var_list.py",
     "varRefreshCmd": "print(var_dic_list())"
    },
    "r": {
     "delete_cmd_postfix": ") ",
     "delete_cmd_prefix": "rm(",
     "library": "var_list.r",
     "varRefreshCmd": "cat(var_dic_list()) "
    }
   },
   "types_to_exclude": [
    "module",
    "function",
    "builtin_function_or_method",
    "instance",
    "_Feature"
   ],
   "window_display": false
  }
 },
 "nbformat": 4,
 "nbformat_minor": 4
}
