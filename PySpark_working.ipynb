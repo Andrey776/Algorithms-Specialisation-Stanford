{
 "cells": [
  {
   "cell_type": "code",
   "execution_count": 1,
   "metadata": {},
   "outputs": [],
   "source": [
    "#pip install PySpark\n",
    "import pyspark\n",
    "from pyspark.sql import SparkSession\n",
    "#spark = SparkSession.builder.getOrCreate()\n",
    "\n",
    "\n"
   ]
  },
  {
   "cell_type": "code",
   "execution_count": 25,
   "metadata": {},
   "outputs": [
    {
     "name": "stdout",
     "output_type": "stream",
     "text": [
      " OR: 0b111\n",
      "AND: 0b1\n",
      "XOR: 0b110\n"
     ]
    }
   ],
   "source": [
    "n1 = 3\n",
    "n2 = 5\n",
    "\n",
    " \n",
    "#n1 = int(n1, 2)\n",
    "#n2 = int(n2, 2)\n",
    " \n",
    "bit_or = n1 | n2\n",
    "bit_and = n1 & n2\n",
    "bit_xor = n1 ^ n2\n",
    "\n",
    "\n",
    "print(\" OR: %s\" % bin(bit_or))\n",
    "print(\"AND: %s\" % bin(bit_and))\n",
    "print(\"XOR: %s\" % bin(bit_xor))\n"
   ]
  },
  {
   "cell_type": "code",
   "execution_count": 42,
   "metadata": {},
   "outputs": [
    {
     "name": "stdout",
     "output_type": "stream",
     "text": [
      "    1000011011110001\n",
      "    1101000011001101\n",
      "AND 1000000011000001\n"
     ]
    }
   ],
   "source": [
    "a = 34545\n",
    "b = 53453\n",
    "c = 1\n",
    "print(f'    {a:04b}')\n",
    "print(f'    {b:04b}')\n",
    "\n",
    "#print(f'and {a&b:04b}')\n",
    "print(f'AND {a&b:04b}')\n",
    "\n"
   ]
  },
  {
   "cell_type": "code",
   "execution_count": 47,
   "metadata": {},
   "outputs": [
    {
     "data": {
      "text/plain": [
       "12"
      ]
     },
     "execution_count": 47,
     "metadata": {},
     "output_type": "execute_result"
    }
   ],
   "source": [
    "def summa(a,b):\n",
    "    s = a+b\n",
    "    return(s)\n",
    "\n",
    "b = summa(4,8)\n",
    "b"
   ]
  },
  {
   "cell_type": "code",
   "execution_count": 50,
   "metadata": {},
   "outputs": [
    {
     "data": {
      "text/plain": [
       "120"
      ]
     },
     "execution_count": 50,
     "metadata": {},
     "output_type": "execute_result"
    }
   ],
   "source": [
    "def fac(n):\n",
    "    if n == 0:\n",
    "        result = 1\n",
    "    else:\n",
    "        result = fac(n-1) * n\n",
    "        \n",
    "    return(result)\n",
    "\n",
    "fac(5)"
   ]
  },
  {
   "cell_type": "code",
   "execution_count": 53,
   "metadata": {},
   "outputs": [
    {
     "name": "stdout",
     "output_type": "stream",
     "text": [
      "[23, 45, 23, 67, 90, 76, 54, 3, 50, 4, 18, 1, 14, 11, 90, 89, 29, 86]\n",
      "[1, 3, 4, 11, 14, 18, 23, 23, 29, 45, 50, 54, 67, 76, 86, 89, 90, 90]\n"
     ]
    }
   ],
   "source": [
    "from random import randint\n",
    "a = [23,45,23,67,90,76,54,3]\n",
    "\n",
    "for i in range(N):\n",
    "    a.append(randint(1, 99))\n",
    "print(a)\n",
    "\n",
    "n = len(a)\n",
    "for i in range(n):\n",
    "    for j in range(n-1-i): ##? raznye kuski?\n",
    "        if a[j] > a[j+1]:\n",
    "            a[j], a[j+1] = a[j+1], a[j]\n",
    "            \n",
    " \n",
    "print(a)\n",
    "    \n",
    "    \n",
    "\n"
   ]
  },
  {
   "cell_type": "code",
   "execution_count": 56,
   "metadata": {},
   "outputs": [
    {
     "data": {
      "text/plain": [
       "'abcd'"
      ]
     },
     "execution_count": 56,
     "metadata": {},
     "output_type": "execute_result"
    }
   ],
   "source": [
    "s = 'abcdefg'\n",
    "\n",
    "s[:4]\n"
   ]
  },
  {
   "cell_type": "code",
   "execution_count": null,
   "metadata": {},
   "outputs": [],
   "source": [
    "file_location = \"/FileStore/tables/winequality-red.csv\"\n",
    "df = spark.read.format(\"csv\").option(\"inferSchema\", \n",
    "           True).option(\"header\", True).load(file_location)\n",
    "display(df)"
   ]
  }
 ],
 "metadata": {
  "kernelspec": {
   "display_name": "Python 3",
   "language": "python",
   "name": "python3"
  },
  "language_info": {
   "codemirror_mode": {
    "name": "ipython",
    "version": 3
   },
   "file_extension": ".py",
   "mimetype": "text/x-python",
   "name": "python",
   "nbconvert_exporter": "python",
   "pygments_lexer": "ipython3",
   "version": "3.8.5"
  },
  "varInspector": {
   "cols": {
    "lenName": 16,
    "lenType": 16,
    "lenVar": 40
   },
   "kernels_config": {
    "python": {
     "delete_cmd_postfix": "",
     "delete_cmd_prefix": "del ",
     "library": "var_list.py",
     "varRefreshCmd": "print(var_dic_list())"
    },
    "r": {
     "delete_cmd_postfix": ") ",
     "delete_cmd_prefix": "rm(",
     "library": "var_list.r",
     "varRefreshCmd": "cat(var_dic_list()) "
    }
   },
   "types_to_exclude": [
    "module",
    "function",
    "builtin_function_or_method",
    "instance",
    "_Feature"
   ],
   "window_display": false
  }
 },
 "nbformat": 4,
 "nbformat_minor": 4
}
