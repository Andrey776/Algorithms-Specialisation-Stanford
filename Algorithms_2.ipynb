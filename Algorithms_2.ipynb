{
 "cells": [
  {
   "cell_type": "code",
   "execution_count": 2,
   "metadata": {},
   "outputs": [],
   "source": [
    "import copy\n",
    "from collections import deque\n",
    "\n"
   ]
  },
  {
   "cell_type": "code",
   "execution_count": 3,
   "metadata": {
    "code_folding": [
     0
    ]
   },
   "outputs": [],
   "source": [
    "def read_a_graph(file_name):\n",
    "    %pwd\n",
    "    %cd /Users/AM/Documents/_Courses/Algorithms/Misc\n",
    "    # load a comma-delimited text file into an np matrix\n",
    "    resultList = {}\n",
    "    f = open(file_name, 'r')\n",
    "    for line in f:\n",
    "        aa = line.rstrip('\\n')  # \"1.0 \\t 2.0 \\t 3.0\"\n",
    "        sVals = aa.split('\\t')\n",
    "        sVals_s = sVals[:-1] # remove the last ''\n",
    "        intVals = list(map(np.int, sVals_s))  # [1.0, 2.0, 3.0]\n",
    "        resultList[intVals[0]] = intVals[1:]\n",
    "    \n",
    "    f.close()\n",
    "    out = resultList\n",
    "    return out#np.asarray(resultList, dtype=np.int)  "
   ]
  },
  {
   "cell_type": "code",
   "execution_count": 99,
   "metadata": {
    "code_folding": []
   },
   "outputs": [],
   "source": [
    "# Programming assignment 2.1 Programming assignment. MIN CUT\n",
    "class Graph(object):\n",
    "\n",
    "    def __init__(self):\n",
    "        self.vert = [] #list of all verteces\n",
    "        self.al_d = {} # adjacency list for the graph (self)\n",
    "        self.al_r = {} # adjacency list for the reversed graph (self)\n",
    "        self.max_i = 0 # max index of the graph nodes (or verteces)\n",
    "        self.explr = [] # exploration flags for DFF; \n",
    "        self.ft_r = [] # b - finishing time reversed graph\n",
    "                        # c - finishing time reversed\n",
    "    def find_all_vert(self, file_name):\n",
    "        %pwd\n",
    "        %cd /Users/AM/Documents/_Courses/Algorithms/Misc\n",
    "        resultList = []\n",
    "        f = open(file_name, 'r')\n",
    "        max_i = self.max_i\n",
    "        for line in f:\n",
    "            line_s = line.rstrip('\\n')  # \"1.0 2.0 3.0\"    \n",
    "            sVals = line_s.split(' ')\n",
    "            sVals_s = sVals[:-1] # remove the last ''\n",
    "            intVals = list(map(np.int, sVals_s))  # [1.0, 2.0, 3.0]\n",
    "            if intVals[0] > max_i: max_i = intVals[0] # looking for a vertex with the max index\n",
    "            if intVals[1] > max_i: max_i = intVals[1]\n",
    "\n",
    "            resultList.append(intVals[0])\n",
    "            resultList.append(intVals[1])\n",
    "              \n",
    "        f.close()\n",
    "        myset = set(resultList)\n",
    "        self.vert = list(myset)\n",
    "        self.vert.sort()\n",
    "        self.max_i = max_i\n",
    "        self.explr = [False for x in range(self.max_i + 1)]\n",
    "        self.ft = [0 for x in range(self.max_i + 1)]\n",
    "\n",
    "    def create_adj_lists(self, file_name):\n",
    "        %pwd\n",
    "        %cd /Users/AM/Documents/_Courses/Algorithms/Misc\n",
    "        # load a comma-delimited text file into an np matrix\n",
    "        resultList_d = {x:[] for x in self.vert}\n",
    "        resultList_r = {x:[] for x in self.vert}\n",
    "\n",
    "        f = open(file_name, 'r')\n",
    "        for line in f:\n",
    "            line_s = line.rstrip('\\n')  # \"1.0 2.0 3.0\"    \n",
    "            sVals = line_s.split(' ')\n",
    "            sVals_s = sVals[:-1] # remove the last ''\n",
    "            intVals = list(map(np.int, sVals_s))  # [1.0, 2.0, 3.0]\n",
    "            \n",
    "            resultList_d[intVals[0]].append(intVals[1])\n",
    "            resultList_r[intVals[1]].append(intVals[0])\n",
    "\n",
    "        \n",
    "        f.close()\n",
    "        self.al_d = resultList_d\n",
    "        self.al_r = resultList_r\n",
    "\n",
    "    def dfs_rev(self):\n",
    "        self.explr = [False for x in range(self.max_i + 1)] # reset explored flags\n",
    "        self.ft_r = [-1 for x in range(self.max_i + 1)]\n",
    "\n",
    "        q_dfs = deque([list(self.al_r.keys())[0]]) # add to a dfs queue the first vertex \n",
    "        fin_time = 0\n",
    "        \n",
    "        while q_dfs:\n",
    "            i = q_dfs.pop() # take a next node to explore \n",
    "            self.explr[i] = True # mark as explored the node i\n",
    "            self.al_r[i].sort() # make a sorted and reversed list of all the nodes \n",
    "            self.al_r[i].reverse()   \n",
    "            a = self.al_r[i]    \n",
    "            \n",
    "            new_vertex_discovered = False\n",
    "            for ver in a:\n",
    "                if self.explr[ver] == False: # if we find a new vertex\n",
    "                    q_dfs.append(ver)\n",
    "                    self.explr[ver] = True \n",
    "                    new_vertex_discovered = True\n",
    "            if new_vertex_discovered == False:\n",
    "                fin_time += 1\n",
    "                self.ft_r[i] = fin_time\n",
    "\n",
    "        \n",
    "    \n",
    "#    def scc\n",
    "    \n",
    "    \n",
    "    \n",
    "  "
   ]
  },
  {
   "cell_type": "code",
   "execution_count": 100,
   "metadata": {},
   "outputs": [
    {
     "name": "stdout",
     "output_type": "stream",
     "text": [
      "/Users/AM/Documents/_Courses/Algorithms/misc\n"
     ]
    }
   ],
   "source": [
    "gr = Graph()\n",
    "gr.find_all_vert('text4.txt')\n"
   ]
  },
  {
   "cell_type": "code",
   "execution_count": 101,
   "metadata": {},
   "outputs": [
    {
     "name": "stdout",
     "output_type": "stream",
     "text": [
      "/Users/AM/Documents/_Courses/Algorithms/misc\n"
     ]
    }
   ],
   "source": [
    "gr.create_adj_lists('text4.txt')"
   ]
  },
  {
   "cell_type": "code",
   "execution_count": 14,
   "metadata": {},
   "outputs": [
    {
     "name": "stdout",
     "output_type": "stream",
     "text": [
      "2599\n",
      "2610\n",
      "2947\n",
      "2052\n",
      "2367\n",
      "2399\n",
      "2029\n",
      "2442\n",
      "2505\n",
      "3068\n"
     ]
    }
   ],
   "source": [
    "# Programming assignment 2.2 Programming assignment. SHORTEST PATH\n",
    "\n",
    "from ast import literal_eval\n",
    "\n",
    "\n",
    "class DijkstraPathFinder:\n",
    "\n",
    "    def __init__(self, input_file):\n",
    "        self.graph = {}\n",
    "        #%pwd\n",
    "        #%cd /Users/AM/Documents/_Courses/Algorithms/Misc\n",
    "        with open(input_file) as file:\n",
    "            for line in file:\n",
    "                line_content = line.split()\n",
    "                self.graph[int(line_content[0])] = [literal_eval(edge) for edge in line_content[1:]]\n",
    "        self._source_vertex = next(iter(self.graph.keys()))\n",
    "\n",
    "    def compute_shortest_paths(self, source=None):\n",
    "        if source is None:\n",
    "            source = self._source_vertex\n",
    "        shortest_paths = {}\n",
    "        visited = set()\n",
    "        for vertex in self.graph.keys():\n",
    "            shortest_paths[vertex] = (9999999999, [])\n",
    "        shortest_paths[source] = (0, [])\n",
    "        visited.add(source)\n",
    "        while set(self.graph.keys() - visited):\n",
    "            source, min_edge = -1, ()\n",
    "            for vertex in visited:\n",
    "                for edge in self.graph[vertex]:\n",
    "                    if edge[0] in visited:\n",
    "                        continue\n",
    "                    if not min_edge or shortest_paths[vertex][0] + edge[1] < min_edge[1]:\n",
    "                        min_edge = (edge[0], shortest_paths[vertex][0] + edge[1])\n",
    "                        source = vertex\n",
    "            shortest_paths[min_edge[0]] = (min_edge[1], shortest_paths[source][1] + [min_edge[0]])\n",
    "            visited.add(min_edge[0])\n",
    "        return shortest_paths\n",
    "\n",
    "if __name__ == '__main__':\n",
    "    path_finder = DijkstraPathFinder('text5.txt')\n",
    "    paths = path_finder.compute_shortest_paths()\n",
    "    actual = {vertex: distance[0] for (vertex, distance) in paths.items()}\n",
    "    print(actual[7])\n",
    "    print(actual[37])\n",
    "    print(actual[59])\n",
    "    print(actual[82])\n",
    "    print(actual[99])\n",
    "    print(actual[115])\n",
    "    print(actual[133])\n",
    "    print(actual[165])\n",
    "    print(actual[188])\n",
    "    print(actual[197])"
   ]
  },
  {
   "cell_type": "code",
   "execution_count": 102,
   "metadata": {},
   "outputs": [
    {
     "name": "stdout",
     "output_type": "stream",
     "text": [
      "max vert index 875714 number of vert 875714\n"
     ]
    }
   ],
   "source": [
    "print('max vert index', gr.max_i, 'number of vert', len(gr.vert))"
   ]
  },
  {
   "cell_type": "code",
   "execution_count": 103,
   "metadata": {},
   "outputs": [],
   "source": [
    "gr.dfs_rev()"
   ]
  }
 ],
 "metadata": {
  "kernelspec": {
   "display_name": "Python 3",
   "language": "python",
   "name": "python3"
  },
  "language_info": {
   "codemirror_mode": {
    "name": "ipython",
    "version": 3
   },
   "file_extension": ".py",
   "mimetype": "text/x-python",
   "name": "python",
   "nbconvert_exporter": "python",
   "pygments_lexer": "ipython3",
   "version": "3.8.5"
  },
  "varInspector": {
   "cols": {
    "lenName": 16,
    "lenType": 16,
    "lenVar": 40
   },
   "kernels_config": {
    "python": {
     "delete_cmd_postfix": "",
     "delete_cmd_prefix": "del ",
     "library": "var_list.py",
     "varRefreshCmd": "print(var_dic_list())"
    },
    "r": {
     "delete_cmd_postfix": ") ",
     "delete_cmd_prefix": "rm(",
     "library": "var_list.r",
     "varRefreshCmd": "cat(var_dic_list()) "
    }
   },
   "types_to_exclude": [
    "module",
    "function",
    "builtin_function_or_method",
    "instance",
    "_Feature"
   ],
   "window_display": false
  }
 },
 "nbformat": 4,
 "nbformat_minor": 4
}
