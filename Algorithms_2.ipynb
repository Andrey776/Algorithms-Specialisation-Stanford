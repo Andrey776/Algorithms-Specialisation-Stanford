{
 "cells": [
  {
   "cell_type": "code",
   "execution_count": 1,
   "metadata": {},
   "outputs": [],
   "source": [
    "import copy\n",
    "import heapq\n",
    "from collections import deque\n",
    "from numpy import random as rnd\n",
    "\n"
   ]
  },
  {
   "cell_type": "code",
   "execution_count": 3,
   "metadata": {
    "code_folding": [
     0
    ]
   },
   "outputs": [],
   "source": [
    "def read_a_graph(file_name):\n",
    "    %pwd\n",
    "    %cd /Users/AM/Documents/_Courses/Algorithms/Misc\n",
    "    # load a comma-delimited text file into an np matrix\n",
    "    resultList = {}\n",
    "    f = open(file_name, 'r')\n",
    "    for line in f:\n",
    "        aa = line.rstrip('\\n')  # \"1.0 \\t 2.0 \\t 3.0\"\n",
    "        sVals = aa.split('\\t')\n",
    "        sVals_s = sVals[:-1] # remove the last ''\n",
    "        intVals = list(map(np.int, sVals_s))  # [1.0, 2.0, 3.0]\n",
    "        resultList[intVals[0]] = intVals[1:]\n",
    "    \n",
    "    f.close()\n",
    "    out = resultList\n",
    "    return out#np.asarray(resultList, dtype=np.int)  "
   ]
  },
  {
   "cell_type": "code",
   "execution_count": 99,
   "metadata": {
    "code_folding": [
     0
    ]
   },
   "outputs": [],
   "source": [
    "# Programming assignment 2.1 Programming assignment. MIN CUT\n",
    "class Graph(object):\n",
    "\n",
    "    def __init__(self):\n",
    "        self.vert = [] #list of all verteces\n",
    "        self.al_d = {} # adjacency list for the graph (self)\n",
    "        self.al_r = {} # adjacency list for the reversed graph (self)\n",
    "        self.max_i = 0 # max index of the graph nodes (or verteces)\n",
    "        self.explr = [] # exploration flags for DFF; \n",
    "        self.ft_r = [] # b - finishing time reversed graph\n",
    "                        # c - finishing time reversed\n",
    "    def find_all_vert(self, file_name):\n",
    "        %pwd\n",
    "        %cd /Users/AM/Documents/_Courses/Algorithms/Misc\n",
    "        resultList = []\n",
    "        f = open(file_name, 'r')\n",
    "        max_i = self.max_i\n",
    "        for line in f:\n",
    "            line_s = line.rstrip('\\n')  # \"1.0 2.0 3.0\"    \n",
    "            sVals = line_s.split(' ')\n",
    "            sVals_s = sVals[:-1] # remove the last ''\n",
    "            intVals = list(map(np.int, sVals_s))  # [1.0, 2.0, 3.0]\n",
    "            if intVals[0] > max_i: max_i = intVals[0] # looking for a vertex with the max index\n",
    "            if intVals[1] > max_i: max_i = intVals[1]\n",
    "\n",
    "            resultList.append(intVals[0])\n",
    "            resultList.append(intVals[1])\n",
    "              \n",
    "        f.close()\n",
    "        myset = set(resultList)\n",
    "        self.vert = list(myset)\n",
    "        self.vert.sort()\n",
    "        self.max_i = max_i\n",
    "        self.explr = [False for x in range(self.max_i + 1)]\n",
    "        self.ft = [0 for x in range(self.max_i + 1)]\n",
    "\n",
    "    def create_adj_lists(self, file_name):\n",
    "        %pwd\n",
    "        %cd /Users/AM/Documents/_Courses/Algorithms/Misc\n",
    "        # load a comma-delimited text file into an np matrix\n",
    "        resultList_d = {x:[] for x in self.vert}\n",
    "        resultList_r = {x:[] for x in self.vert}\n",
    "\n",
    "        f = open(file_name, 'r')\n",
    "        for line in f:\n",
    "            line_s = line.rstrip('\\n')  # \"1.0 2.0 3.0\"    \n",
    "            sVals = line_s.split(' ')\n",
    "            sVals_s = sVals[:-1] # remove the last ''\n",
    "            intVals = list(map(np.int, sVals_s))  # [1.0, 2.0, 3.0]\n",
    "            \n",
    "            resultList_d[intVals[0]].append(intVals[1])\n",
    "            resultList_r[intVals[1]].append(intVals[0])\n",
    "\n",
    "        \n",
    "        f.close()\n",
    "        self.al_d = resultList_d\n",
    "        self.al_r = resultList_r\n",
    "\n",
    "    def dfs_rev(self):\n",
    "        self.explr = [False for x in range(self.max_i + 1)] # reset explored flags\n",
    "        self.ft_r = [-1 for x in range(self.max_i + 1)]\n",
    "\n",
    "        q_dfs = deque([list(self.al_r.keys())[0]]) # add to a dfs queue the first vertex \n",
    "        fin_time = 0\n",
    "        \n",
    "        while q_dfs:\n",
    "            i = q_dfs.pop() # take a next node to explore \n",
    "            self.explr[i] = True # mark as explored the node i\n",
    "            self.al_r[i].sort() # make a sorted and reversed list of all the nodes \n",
    "            self.al_r[i].reverse()   \n",
    "            a = self.al_r[i]    \n",
    "            \n",
    "            new_vertex_discovered = False\n",
    "            for ver in a:\n",
    "                if self.explr[ver] == False: # if we find a new vertex\n",
    "                    q_dfs.append(ver)\n",
    "                    self.explr[ver] = True \n",
    "                    new_vertex_discovered = True\n",
    "            if new_vertex_discovered == False:\n",
    "                fin_time += 1\n",
    "                self.ft_r[i] = fin_time\n",
    "\n",
    "        \n",
    "    \n",
    "#    def scc\n",
    "    \n",
    "    \n",
    "    \n",
    "  "
   ]
  },
  {
   "cell_type": "code",
   "execution_count": 100,
   "metadata": {},
   "outputs": [
    {
     "name": "stdout",
     "output_type": "stream",
     "text": [
      "/Users/AM/Documents/_Courses/Algorithms/misc\n"
     ]
    }
   ],
   "source": [
    "gr = Graph()\n",
    "gr.find_all_vert('text4.txt')\n"
   ]
  },
  {
   "cell_type": "code",
   "execution_count": 101,
   "metadata": {},
   "outputs": [
    {
     "name": "stdout",
     "output_type": "stream",
     "text": [
      "/Users/AM/Documents/_Courses/Algorithms/misc\n"
     ]
    }
   ],
   "source": [
    "gr.create_adj_lists('text4.txt')"
   ]
  },
  {
   "cell_type": "code",
   "execution_count": null,
   "metadata": {
    "code_folding": [
     0
    ]
   },
   "outputs": [],
   "source": [
    "# Programming assignment 2.2 Programming assignment. SHORTEST PATH (THINK AGAIN!!!)\n",
    "\n",
    "from ast import literal_eval\n",
    "\n",
    "\n",
    "class DijkstraPathFinder:\n",
    "\n",
    "    def __init__(self, input_file):\n",
    "        self.graph = {}\n",
    "        #%pwd\n",
    "        #%cd /Users/AM/Documents/_Courses/Algorithms/Misc\n",
    "        with open(input_file) as file:\n",
    "            for line in file:\n",
    "                line_content = line.split()\n",
    "                self.graph[int(line_content[0])] = [literal_eval(edge) for edge in line_content[1:]]\n",
    "        self._source_vertex = next(iter(self.graph.keys()))\n",
    "\n",
    "    def compute_shortest_paths(self, source=None):\n",
    "        if source is None:\n",
    "            source = self._source_vertex\n",
    "        shortest_paths = {}\n",
    "        visited = set()\n",
    "        for vertex in self.graph.keys():\n",
    "            shortest_paths[vertex] = (9999999999, [])\n",
    "        shortest_paths[source] = (0, [])\n",
    "        visited.add(source)\n",
    "        while set(self.graph.keys() - visited):\n",
    "            source, min_edge = -1, ()\n",
    "            for vertex in visited:\n",
    "                for edge in self.graph[vertex]:\n",
    "                    if edge[0] in visited:\n",
    "                        continue\n",
    "                    if not min_edge or shortest_paths[vertex][0] + edge[1] < min_edge[1]:\n",
    "                        min_edge = (edge[0], shortest_paths[vertex][0] + edge[1])\n",
    "                        source = vertex\n",
    "            shortest_paths[min_edge[0]] = (min_edge[1], shortest_paths[source][1] + [min_edge[0]])\n",
    "            visited.add(min_edge[0])\n",
    "        return shortest_paths\n",
    "\n",
    "if __name__ == '__main__':\n",
    "    path_finder = DijkstraPathFinder('text5.txt')\n",
    "    paths = path_finder.compute_shortest_paths()\n",
    "    actual = {vertex: distance[0] for (vertex, distance) in paths.items()}\n",
    "    print(actual[7])\n",
    "    print(actual[37])\n",
    "    print(actual[59])\n",
    "    print(actual[82])\n",
    "    print(actual[99])\n",
    "    print(actual[115])\n",
    "    print(actual[133])\n",
    "    print(actual[165])\n",
    "    print(actual[188])\n",
    "    print(actual[197])"
   ]
  },
  {
   "cell_type": "code",
   "execution_count": 128,
   "metadata": {
    "code_folding": [
     0
    ]
   },
   "outputs": [],
   "source": [
    "# Programming assignment 2.3 Programming assignment. Median_Maintanance\n",
    "\n",
    "class Median_Maintanance:\n",
    "\n",
    "    def __init__(self, input_file):\n",
    "        self.file_name = input_file\n",
    "        self.inputs_master = deque()\n",
    "        self.inputs_copy = deque()\n",
    "        self.heap_high = []\n",
    "        self.heap_low = []\n",
    "        heapq.heapify(self.heap_high)\n",
    "        heapq.heapify(self.heap_low)\n",
    "\n",
    "        %pwd\n",
    "        %cd /Users/AM/Documents/_Courses/Algorithms/Misc\n",
    "        with open(input_file) as file:\n",
    "            for line in file:\n",
    "                line_content = line.split()\n",
    "                self.inputs_master.append(int(line_content[0]))\n",
    "    \n",
    "    def count_median(self):\n",
    "        self.inputs_copy = self.inputs_master.copy()\n",
    "        turn = False #for heap_low and True for high\n",
    "        count = 0\n",
    "        sum_of_median_mod10000 = 0\n",
    "        \n",
    "        next_item = self.inputs_copy.popleft()\n",
    "        count += 1\n",
    "        heapq.heappush(self.heap_low, -next_item)\n",
    "        median = -self.heap_low[0]                \n",
    "        sum_of_median_mod10000 = median % 10000\n",
    "        turn = not(turn)\n",
    "\n",
    "        \n",
    "        while self.inputs_copy:\n",
    "            next_item = self.inputs_copy.popleft()\n",
    "            count += 1\n",
    "            if turn:\n",
    "                heapq.heappush(self.heap_high, next_item)\n",
    "            else:\n",
    "                heapq.heappush(self.heap_low, -next_item)\n",
    "            \n",
    "            if -self.heap_low[0] > self.heap_high[0]:\n",
    "                a_low = heapq.heappop(self.heap_low)\n",
    "                a_high = heapq.heappop(self.heap_high)\n",
    "                heapq.heappush(self.heap_high, -a_low)\n",
    "                heapq.heappush(self.heap_low, -a_high)\n",
    "            \n",
    "            median = -self.heap_low[0]                \n",
    "            sum_of_median_mod10000 += median\n",
    "            sum_of_median_mod10000 %= 10000\n",
    "            turn = not(turn)\n",
    "        \n",
    "        return(sum_of_median_mod10000, count)\n",
    "\n",
    "    \n",
    "    def check_inputs(self, n):\n",
    "        print(f'the first {n} lines of the {self.file_name} \\n {self.inputs_master}')\n",
    "        \n",
    "        "
   ]
  },
  {
   "cell_type": "code",
   "execution_count": 129,
   "metadata": {},
   "outputs": [
    {
     "name": "stdout",
     "output_type": "stream",
     "text": [
      "/Users/AM/Documents/_Courses/Algorithms/misc\n"
     ]
    },
    {
     "data": {
      "text/plain": [
       "(1213, 10000)"
      ]
     },
     "execution_count": 129,
     "metadata": {},
     "output_type": "execute_result"
    }
   ],
   "source": [
    "a = Median_Maintanance('text6_Median.txt')\n",
    "a.count_median()"
   ]
  },
  {
   "cell_type": "code",
   "execution_count": 2,
   "metadata": {
    "code_folding": []
   },
   "outputs": [
    {
     "name": "stdout",
     "output_type": "stream",
     "text": [
      "/Users/AM/Documents/_Courses/Algorithms/misc\n",
      "427\n"
     ]
    }
   ],
   "source": [
    "# Programming assignment 2.4 Programming assignment. Two sum. Beautiful one!\n",
    "\n",
    "\n",
    "from bisect import bisect_left, bisect_right\n",
    "\n",
    "\n",
    "class TwoSumFinder:\n",
    "    def __init__(self, input_file=None):\n",
    "        %pwd\n",
    "        %cd /Users/AM/Documents/_Courses/Algorithms/Misc\n",
    "        self._array = []\n",
    "        numbers = set()\n",
    "        self._target_values = 0\n",
    "        if input_file is None:\n",
    "            for number in input().split():\n",
    "                numbers.add(int(number))\n",
    "        else:\n",
    "            with open(input_file) as file:\n",
    "                for number in file.read().splitlines():\n",
    "                    numbers.add(int(number))\n",
    "        self._array = sorted(numbers)\n",
    "\n",
    "        \n",
    "    def compute_values(self):\n",
    "        target_values = set()\n",
    "        for num in self._array:\n",
    "            low = bisect_left(self._array, -10000 - num)\n",
    "            high = bisect_right(self._array, 10000 - num)\n",
    "            for pair_num in self._array[low:high]:\n",
    "                if pair_num != num:\n",
    "                    target_values.add(num + pair_num)\n",
    "        return len(target_values)\n",
    "\n",
    "if __name__ == \"__main__\":\n",
    "    two_sum_finder = TwoSumFinder(\"text7.txt\")\n",
    "    target_values = two_sum_finder.compute_values()\n",
    "    print(target_values)\n"
   ]
  },
  {
   "cell_type": "code",
   "execution_count": 156,
   "metadata": {},
   "outputs": [
    {
     "name": "stdout",
     "output_type": "stream",
     "text": [
      "before the heap [7, 0, 9, 5, 9, 3, 9, 6, 4, 4]\n",
      "after the heap [0, 4, 3, 4, 7, 9, 9, 6, 5, 9]\n",
      "after adding 333 [0, 4, 3, 4, 7, 9, 9, 6, 5, 9, 333]\n"
     ]
    },
    {
     "data": {
      "text/plain": [
       "[-333, 11, -222, 22]"
      ]
     },
     "execution_count": 156,
     "metadata": {},
     "output_type": "execute_result"
    }
   ],
   "source": [
    "a = [rnd.randint(10) for i in range(10)]\n",
    "print(f'before the heap {a}')\n",
    "heapq.heapify(a)\n",
    "print(f'after the heap {a}')\n",
    "heapq.heappush(a, 333)\n",
    "print(f'after adding 333 {a}')\n",
    "b = [22]\n",
    "heapq.heapify(b)\n",
    "heapq.heappush(b, -333)\n",
    "heapq.heappush(b, -222)\n",
    "heapq.heappush(b, 11)\n",
    "\n",
    "\n",
    "b"
   ]
  },
  {
   "cell_type": "code",
   "execution_count": 151,
   "metadata": {},
   "outputs": [
    {
     "data": {
      "text/plain": [
       "0.00987754065883002"
      ]
     },
     "execution_count": 151,
     "metadata": {},
     "output_type": "execute_result"
    }
   ],
   "source": [
    "n = 57\n",
    "p = 1 # probability that no same day birthday for one person (n = 1)\n",
    "for i in range(1, n + 1): # i \n",
    "    p = p * (365 - (i - 1)) / 365\n",
    "    \n",
    "p"
   ]
  }
 ],
 "metadata": {
  "kernelspec": {
   "display_name": "Python 3",
   "language": "python",
   "name": "python3"
  },
  "language_info": {
   "codemirror_mode": {
    "name": "ipython",
    "version": 3
   },
   "file_extension": ".py",
   "mimetype": "text/x-python",
   "name": "python",
   "nbconvert_exporter": "python",
   "pygments_lexer": "ipython3",
   "version": "3.8.5"
  },
  "varInspector": {
   "cols": {
    "lenName": 16,
    "lenType": 16,
    "lenVar": 40
   },
   "kernels_config": {
    "python": {
     "delete_cmd_postfix": "",
     "delete_cmd_prefix": "del ",
     "library": "var_list.py",
     "varRefreshCmd": "print(var_dic_list())"
    },
    "r": {
     "delete_cmd_postfix": ") ",
     "delete_cmd_prefix": "rm(",
     "library": "var_list.r",
     "varRefreshCmd": "cat(var_dic_list()) "
    }
   },
   "types_to_exclude": [
    "module",
    "function",
    "builtin_function_or_method",
    "instance",
    "_Feature"
   ],
   "window_display": false
  }
 },
 "nbformat": 4,
 "nbformat_minor": 4
}
